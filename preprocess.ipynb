{
 "cells": [
  {
   "cell_type": "markdown",
   "id": "c1d31f54",
   "metadata": {},
   "source": [
    "# Notebook for preprocessing Wikipedia (English) dataset"
   ]
  },
  {
   "cell_type": "markdown",
   "id": "21eb8ed4",
   "metadata": {},
   "source": [
    "### Initilizing phonemizer and tokenizer"
   ]
  },
  {
   "cell_type": "code",
   "execution_count": 6,
   "id": "d6ca5ee4",
   "metadata": {},
   "outputs": [],
   "source": [
    "import yaml\n",
    "\n",
    "config_path = \"Configs/config.yml\" # you can change it to anything else\n",
    "config = yaml.safe_load(open(config_path))"
   ]
  },
  {
   "cell_type": "code",
   "execution_count": 7,
   "id": "b52b79ee",
   "metadata": {},
   "outputs": [],
   "source": [
    "from phonemize import phonemize"
   ]
  },
  {
   "cell_type": "code",
   "execution_count": 8,
   "id": "2b363b0a",
   "metadata": {},
   "outputs": [],
   "source": [
    "import phonemizer\n",
    "global_phonemizer = phonemizer.backend.EspeakBackend(language='en-us', preserve_punctuation=True,  with_stress=True)"
   ]
  },
  {
   "cell_type": "code",
   "execution_count": 9,
   "id": "92d58c92",
   "metadata": {},
   "outputs": [
    {
     "name": "stderr",
     "output_type": "stream",
     "text": [
      "/home/hoang/.conda/envs/plbert/lib/python3.8/site-packages/huggingface_hub/file_download.py:795: FutureWarning: `resume_download` is deprecated and will be removed in version 1.0.0. Downloads always resume when possible. If you want to force a new download, use `force_download=True`.\n",
      "  warnings.warn(\n"
     ]
    }
   ],
   "source": [
    "from transformers import TransfoXLTokenizer\n",
    "tokenizer = TransfoXLTokenizer.from_pretrained(config['dataset_params']['tokenizer']) # you can use any other tokenizers if you want to"
   ]
  },
  {
   "cell_type": "code",
   "execution_count": 10,
   "id": "63d304e1",
   "metadata": {},
   "outputs": [
    {
     "data": {
      "text/plain": [
       "['Hello', ',', 'how', 'are', 'you', '?']"
      ]
     },
     "execution_count": 10,
     "metadata": {},
     "output_type": "execute_result"
    }
   ],
   "source": [
    "tokenizer.tokenize(\"Hello, how are you?\") # just to make sure it works"
   ]
  },
  {
   "cell_type": "code",
   "execution_count": 11,
   "id": "3e965651",
   "metadata": {},
   "outputs": [
    {
     "data": {
      "text/plain": [
       "{'input_ids': [14049, 2, 433, 37, 304, 788],\n",
       " 'phonemes': ['həlˈoʊ', ',', 'hˈaʊ', 'ɑːɹ', 'juː', '?']}"
      ]
     },
     "execution_count": 11,
     "metadata": {},
     "output_type": "execute_result"
    }
   ],
   "source": [
    "phonemize(\"Hello, how are you?\", global_phonemizer, tokenizer)"
   ]
  },
  {
   "cell_type": "markdown",
   "id": "2eb25417",
   "metadata": {},
   "source": [
    "### Process dataset"
   ]
  },
  {
   "cell_type": "code",
   "execution_count": 5,
   "id": "25e5ae16",
   "metadata": {
    "scrolled": true
   },
   "outputs": [],
   "source": [
    "from datasets import load_dataset\n",
    "dataset = load_dataset(\"wikipedia\", \"20220301.en\", trust_remote_code=True)['train'] # you can use other version of this dataset"
   ]
  },
  {
   "cell_type": "code",
   "execution_count": 6,
   "id": "ca7ca2f3",
   "metadata": {},
   "outputs": [],
   "source": [
    "root_directory = \"./wiki_phoneme\" # set up root directory for multiprocessor processing"
   ]
  },
  {
   "cell_type": "code",
   "execution_count": 7,
   "id": "92a578d6",
   "metadata": {},
   "outputs": [],
   "source": [
    "import os\n",
    "num_shards = 50000\n",
    "\n",
    "def process_shard(i):\n",
    "    directory = root_directory + \"/shard_\" + str(i)\n",
    "    if os.path.exists(directory):\n",
    "        print(\"Shard %d already exists!\" % i)\n",
    "        return\n",
    "    print('Processing shard %d ...' % i)\n",
    "    shard = dataset.shard(num_shards=num_shards, index=i)\n",
    "    processed_dataset = shard.map(lambda t: phonemize(t['text'], global_phonemizer, tokenizer), remove_columns=['text'])\n",
    "    if not os.path.exists(directory):\n",
    "        os.makedirs(directory)\n",
    "    processed_dataset.save_to_disk(directory)"
   ]
  },
  {
   "cell_type": "code",
   "execution_count": 8,
   "id": "d73caf6f",
   "metadata": {},
   "outputs": [],
   "source": [
    "from pebble import ProcessPool\n",
    "from concurrent.futures import TimeoutError"
   ]
  },
  {
   "cell_type": "markdown",
   "id": "c21f9dcf",
   "metadata": {},
   "source": [
    "#### Note: You will need to run the following cell multiple times to process all shards because some will fail. Depending on how fast you process each shard, you will need to change the timeout to a longer value to make more shards processed before being killed.\n"
   ]
  },
  {
   "cell_type": "code",
   "execution_count": 9,
   "id": "1d3b81f4",
   "metadata": {},
   "outputs": [
    {
     "name": "stdout",
     "output_type": "stream",
     "text": [
      "Số core của CPU là: 80\n"
     ]
    }
   ],
   "source": [
    "import os\n",
    "\n",
    "# Lấy số core của CPU\n",
    "num_cores = os.cpu_count()\n",
    "print(f\"Số core của CPU là: {num_cores}\")"
   ]
  },
  {
   "cell_type": "code",
   "execution_count": null,
   "id": "04261364",
   "metadata": {
    "scrolled": true
   },
   "outputs": [
    {
     "name": "stdout",
     "output_type": "stream",
     "text": [
      "Processing shard 0 ...\n",
      "Processing shard 1 ...\n",
      "Processing shard 2 ...\n",
      "Processing shard 3 ...\n",
      "Processing shard 4 ...\n",
      "Processing shard 5 ...\n",
      "Processing shard 6 ...\n",
      "Processing shard 7 ...Processing shard 8 ...\n",
      "\n",
      "Processing shard 9 ...\n",
      "Processing shard 10 ...\n",
      "Processing shard 11 ...Processing shard 13 ...Processing shard 12 ...Processing shard 14 ...Processing shard 15 ...\n",
      "\n",
      "\n",
      "\n",
      "\n",
      "Processing shard 17 ...\n",
      "Processing shard 18 ...\n",
      "Processing shard 16 ...\n",
      "Processing shard 19 ...\n",
      "Processing shard 20 ...\n",
      "Processing shard 21 ...\n",
      "Processing shard 22 ...Processing shard 23 ...Processing shard 24 ...\n",
      "Processing shard 25 ...\n",
      "Processing shard 26 ...\n",
      "\n",
      "\n",
      "Processing shard 28 ...Processing shard 29 ...\n",
      "Processing shard 30 ...\n",
      "Processing shard 31 ...Processing shard 32 ...Processing shard 33 ...Processing shard 34 ...\n",
      "Processing shard 35 ...\n",
      "\n",
      "Processing shard 36 ...\n",
      "\n",
      "\n",
      "Processing shard 38 ...Processing shard 37 ...\n",
      "Processing shard 39 ...Processing shard 43 ...Processing shard 42 ...Processing shard 41 ...Processing shard 40 ...Processing shard 45 ...Processing shard 48 ...Processing shard 44 ...Processing shard 46 ...\n",
      "Processing shard 52 ...Processing shard 50 ...\n",
      "\n",
      "Processing shard 51 ...\n",
      "Processing shard 47 ...\n",
      "\n",
      "\n",
      "\n",
      "\n",
      "\n",
      "Processing shard 53 ...Processing shard 49 ...\n",
      "Processing shard 54 ...\n",
      "\n",
      "Processing shard 67 ...Processing shard 55 ...Processing shard 57 ...Processing shard 56 ...\n",
      "\n",
      "Processing shard 58 ...Processing shard 61 ...Processing shard 60 ...Processing shard 68 ...\n",
      "Processing shard 65 ...Processing shard 62 ...\n",
      "\n",
      "Processing shard 63 ...\n",
      "\n",
      "\n",
      "\n",
      "Processing shard 64 ...Processing shard 69 ...Processing shard 66 ...\n",
      "\n",
      "Processing shard 75 ...Processing shard 59 ...Processing shard 71 ...\n",
      "Processing shard 73 ...\n",
      "Processing shard 72 ...Processing shard 74 ...Processing shard 79 ...\n",
      "Processing shard 78 ...\n",
      "\n",
      "\n",
      "\n",
      "Processing shard 70 ...\n",
      "\n",
      "Processing shard 77 ...Processing shard 76 ...\n",
      "\n",
      "\n",
      "\n",
      "\n",
      "\n",
      "\n",
      "\n",
      "\n",
      "\n",
      "\n",
      "Processing shard 27 ..."
     ]
    },
    {
     "name": "stderr",
     "output_type": "stream",
     "text": [
      "Map:   8%|▊         | 10/130 [00:42<08:25,  4.21s/ examples]\n",
      "Map:  12%|█▏        | 15/130 [00:41<03:51,  2.01s/ examples]"
     ]
    },
    {
     "name": "stdout",
     "output_type": "stream",
     "text": [
      "Processing shard 80 ...\n"
     ]
    },
    {
     "name": "stderr",
     "output_type": "stream",
     "text": [
      "Map:   5%|▌         | 7/130 [00:46<14:22,  7.01s/ examples]]"
     ]
    },
    {
     "name": "stdout",
     "output_type": "stream",
     "text": [
      "Processing shard 81 ...\n"
     ]
    },
    {
     "name": "stderr",
     "output_type": "stream",
     "text": [
      "Map:  12%|█▏        | 15/130 [00:46<07:57,  4.15s/ examples]"
     ]
    },
    {
     "name": "stdout",
     "output_type": "stream",
     "text": [
      "Processing shard 82 ...\n"
     ]
    },
    {
     "name": "stderr",
     "output_type": "stream",
     "text": [
      "Map:  15%|█▌        | 20/130 [00:47<05:47,  3.16s/ examples]"
     ]
    },
    {
     "name": "stdout",
     "output_type": "stream",
     "text": [
      "Processing shard 83 ..."
     ]
    },
    {
     "name": "stderr",
     "output_type": "stream",
     "text": [
      "Map:  18%|█▊        | 23/130 [00:48<08:03,  4.52s/ examples]"
     ]
    },
    {
     "name": "stdout",
     "output_type": "stream",
     "text": [
      "\n",
      "Processing shard 84 ..."
     ]
    },
    {
     "name": "stderr",
     "output_type": "stream",
     "text": [
      "Map:  34%|███▍      | 44/130 [00:47<00:21,  3.96 examples/s]"
     ]
    },
    {
     "name": "stdout",
     "output_type": "stream",
     "text": [
      "Processing shard 85 ...\n"
     ]
    },
    {
     "name": "stderr",
     "output_type": "stream",
     "text": [
      "Map:   7%|▋         | 9/130 [00:48<09:08,  4.53s/ examples]"
     ]
    },
    {
     "name": "stdout",
     "output_type": "stream",
     "text": [
      "\n",
      "Processing shard 86 ..."
     ]
    },
    {
     "name": "stderr",
     "output_type": "stream",
     "text": [
      "Map:   8%|▊         | 10/130 [00:46<13:54,  6.96s/ examples]"
     ]
    },
    {
     "name": "stdout",
     "output_type": "stream",
     "text": [
      "\n",
      "Processing shard 87 ...Processing shard 88 ...\n"
     ]
    },
    {
     "name": "stderr",
     "output_type": "stream",
     "text": [
      "Map:   8%|▊         | 11/130 [00:46<07:13,  3.65s/ examples]"
     ]
    },
    {
     "name": "stdout",
     "output_type": "stream",
     "text": [
      "\n",
      "Processing shard 89 ..."
     ]
    },
    {
     "name": "stderr",
     "output_type": "stream",
     "text": [
      "Map:   9%|▉         | 12/130 [00:49<09:44,  4.95s/ examples]"
     ]
    },
    {
     "name": "stdout",
     "output_type": "stream",
     "text": [
      "Processing shard 90 ..."
     ]
    },
    {
     "name": "stderr",
     "output_type": "stream",
     "text": [
      "Map:  16%|█▌        | 21/130 [00:47<04:14,  2.34s/ examples]"
     ]
    },
    {
     "name": "stdout",
     "output_type": "stream",
     "text": [
      "\n",
      "\n",
      "Processing shard 91 ..."
     ]
    },
    {
     "name": "stderr",
     "output_type": "stream",
     "text": [
      "Map:  12%|█▏        | 16/130 [00:49<05:36,  2.95s/ examples]"
     ]
    },
    {
     "name": "stdout",
     "output_type": "stream",
     "text": [
      "\n"
     ]
    },
    {
     "name": "stderr",
     "output_type": "stream",
     "text": [
      "Map:   9%|▉         | 12/130 [00:52<05:16,  2.68s/ examples]"
     ]
    },
    {
     "name": "stdout",
     "output_type": "stream",
     "text": [
      "Processing shard 92 ...\n",
      "Processing shard 93 ...\n",
      "Processing shard 94 ...\n",
      "Processing shard 95 ...\n",
      "Processing shard 96 ...\n",
      "Processing shard 97 ...\n",
      "Processing shard 98 ...\n",
      "Processing shard 99 ...\n",
      "Processing shard 100 ...\n",
      "Processing shard 101 ...\n",
      "Processing shard 102 ...\n",
      "Processing shard 103 ...\n",
      "Processing shard 104 ...\n",
      "Processing shard 105 ...\n",
      "Processing shard 106 ...\n",
      "Processing shard 107 ...\n",
      "Processing shard 108 ...\n",
      "Processing shard 109 ...\n",
      "Processing shard 110 ...\n",
      "Processing shard 111 ...\n",
      "Processing shard 112 ...\n",
      "Processing shard 113 ...\n",
      "Processing shard 114 ...\n",
      "Processing shard 115 ...\n",
      "Processing shard 116 ...\n",
      "Processing shard 117 ...\n",
      "Processing shard 118 ...\n",
      "Processing shard 119 ...\n",
      "Processing shard 120 ...\n",
      "Processing shard 121 ...\n",
      "Processing shard 122 ...Processing shard 123 ...\n",
      "\n",
      "Processing shard 124 ...\n",
      "Processing shard 125 ...\n",
      "Processing shard 126 ...\n",
      "Processing shard 127 ...\n",
      "Processing shard 128 ...\n",
      "Processing shard 129 ...Processing shard 130 ...\n",
      "Processing shard 131 ...\n",
      "\n",
      "Processing shard 132 ...\n",
      "Processing shard 133 ...\n",
      "Processing shard 134 ...\n",
      "Shard 135 already exists!Processing shard 136 ...\n",
      "\n",
      "Processing shard 137 ...Processing shard 138 ...\n",
      "Processing shard 139 ...\n",
      "\n",
      "Processing shard 140 ...\n",
      "Processing shard 141 ...\n",
      "Processing shard 142 ...\n",
      "Processing shard 143 ...\n",
      "Processing shard 144 ...\n",
      "Processing shard 145 ...\n",
      "Processing shard 146 ...\n",
      "Processing shard 147 ...\n",
      "Processing shard 148 ...\n",
      "Processing shard 149 ...\n",
      "Processing shard 150 ...\n",
      "Processing shard 151 ...Processing shard 152 ...\n",
      "\n",
      "Processing shard 153 ...\n",
      "Processing shard 154 ...\n",
      "Processing shard 155 ...\n",
      "Processing shard 157 ...Processing shard 156 ...\n",
      "\n"
     ]
    },
    {
     "name": "stderr",
     "output_type": "stream",
     "text": [
      "Map:   0%|          | 0/130 [00:00<?, ? examples/s]"
     ]
    },
    {
     "name": "stdout",
     "output_type": "stream",
     "text": [
      "Processing shard 158 ...\n",
      "Processing shard 159 ...\n",
      "Processing shard 160 ...\n"
     ]
    },
    {
     "name": "stderr",
     "output_type": "stream",
     "text": [
      "Map:   5%|▍         | 6/130 [00:20<06:59,  3.38s/ examples]]\n",
      "Map:  33%|███▎      | 43/130 [00:20<00:46,  1.88 examples/s]"
     ]
    },
    {
     "name": "stdout",
     "output_type": "stream",
     "text": [
      "Processing shard 161 ..."
     ]
    },
    {
     "name": "stderr",
     "output_type": "stream",
     "text": [
      "Map:  21%|██        | 27/130 [00:15<01:09,  1.48 examples/s]"
     ]
    },
    {
     "name": "stdout",
     "output_type": "stream",
     "text": [
      "\n"
     ]
    },
    {
     "name": "stderr",
     "output_type": "stream",
     "text": [
      "Map:  28%|██▊       | 36/130 [00:31<03:14,  2.07s/ examples]"
     ]
    },
    {
     "name": "stdout",
     "output_type": "stream",
     "text": [
      "Processing shard 162 ..."
     ]
    },
    {
     "name": "stderr",
     "output_type": "stream",
     "text": [
      "Map:  17%|█▋        | 22/130 [00:33<04:23,  2.44s/ examples]"
     ]
    },
    {
     "name": "stdout",
     "output_type": "stream",
     "text": [
      "\n"
     ]
    },
    {
     "name": "stderr",
     "output_type": "stream",
     "text": [
      "Map:  44%|████▍     | 57/130 [00:45<00:33,  2.20 examples/s]"
     ]
    },
    {
     "name": "stdout",
     "output_type": "stream",
     "text": [
      "Processing shard 163 ..."
     ]
    },
    {
     "name": "stderr",
     "output_type": "stream",
     "text": [
      "Map:  14%|█▍        | 18/130 [00:44<05:38,  3.02s/ examples]"
     ]
    },
    {
     "name": "stdout",
     "output_type": "stream",
     "text": [
      "\n"
     ]
    },
    {
     "name": "stderr",
     "output_type": "stream",
     "text": [
      "Map:  15%|█▍        | 19/130 [00:41<03:00,  1.63s/ examples]"
     ]
    },
    {
     "name": "stdout",
     "output_type": "stream",
     "text": [
      "Processing shard 164 ..."
     ]
    },
    {
     "name": "stderr",
     "output_type": "stream",
     "text": [
      "Map:  36%|███▌      | 47/130 [00:43<01:39,  1.20s/ examples]"
     ]
    },
    {
     "name": "stdout",
     "output_type": "stream",
     "text": [
      "\n",
      "Processing shard 165 ..."
     ]
    },
    {
     "name": "stderr",
     "output_type": "stream",
     "text": [
      "Map:   8%|▊         | 11/130 [00:45<07:40,  3.87s/ examples]"
     ]
    },
    {
     "name": "stdout",
     "output_type": "stream",
     "text": [
      "\n",
      "Processing shard 166 ..."
     ]
    },
    {
     "name": "stderr",
     "output_type": "stream",
     "text": [
      "Map:  26%|██▌       | 34/130 [00:43<01:23,  1.15 examples/s]"
     ]
    },
    {
     "name": "stdout",
     "output_type": "stream",
     "text": [
      "\n",
      "Processing shard 167 ...\n"
     ]
    },
    {
     "name": "stderr",
     "output_type": "stream",
     "text": [
      "Map:  13%|█▎        | 17/130 [00:42<05:13,  2.78s/ examples]"
     ]
    },
    {
     "name": "stdout",
     "output_type": "stream",
     "text": [
      "Processing shard 168 ..."
     ]
    },
    {
     "name": "stderr",
     "output_type": "stream",
     "text": [
      "Map:  28%|██▊       | 36/130 [00:44<01:00,  1.55 examples/s]"
     ]
    },
    {
     "name": "stdout",
     "output_type": "stream",
     "text": [
      "Processing shard 169 ..."
     ]
    },
    {
     "name": "stderr",
     "output_type": "stream",
     "text": [
      "Map:  45%|████▍     | 58/130 [00:45<00:34,  2.06 examples/s]"
     ]
    },
    {
     "name": "stdout",
     "output_type": "stream",
     "text": [
      "\n"
     ]
    },
    {
     "name": "stderr",
     "output_type": "stream",
     "text": [
      "Map:  47%|████▋     | 61/130 [00:46<00:23,  2.98 examples/s]"
     ]
    },
    {
     "name": "stdout",
     "output_type": "stream",
     "text": [
      "\n"
     ]
    },
    {
     "name": "stderr",
     "output_type": "stream",
     "text": [
      "Map:  45%|████▌     | 59/130 [00:45<00:36,  1.94 examples/s]"
     ]
    },
    {
     "name": "stdout",
     "output_type": "stream",
     "text": [
      "Processing shard 170 ..."
     ]
    },
    {
     "name": "stderr",
     "output_type": "stream",
     "text": [
      "Map:  59%|█████▉    | 77/130 [00:47<00:20,  2.63 examples/s]"
     ]
    },
    {
     "name": "stdout",
     "output_type": "stream",
     "text": [
      "\n",
      "Processing shard 171 ...\n"
     ]
    },
    {
     "name": "stderr",
     "output_type": "stream",
     "text": [
      "Map:   9%|▉         | 12/130 [00:46<07:54,  4.02s/ examples]"
     ]
    },
    {
     "name": "stdout",
     "output_type": "stream",
     "text": [
      "Processing shard 172 ..."
     ]
    },
    {
     "name": "stderr",
     "output_type": "stream",
     "text": [
      "Map:   2%|▏         | 2/130 [00:00<00:21,  6.06 examples/s]"
     ]
    },
    {
     "name": "stdout",
     "output_type": "stream",
     "text": [
      "\n",
      "Processing shard 173 ..."
     ]
    },
    {
     "name": "stderr",
     "output_type": "stream",
     "text": [
      "Map:  27%|██▋       | 35/130 [00:44<01:21,  1.16 examples/s]"
     ]
    },
    {
     "name": "stdout",
     "output_type": "stream",
     "text": [
      "\n"
     ]
    },
    {
     "name": "stderr",
     "output_type": "stream",
     "text": [
      "Map:   5%|▌         | 7/130 [00:46<13:34,  6.62s/ examples]\n"
     ]
    },
    {
     "name": "stdout",
     "output_type": "stream",
     "text": [
      "Processing shard 174 ...\n"
     ]
    },
    {
     "name": "stderr",
     "output_type": "stream",
     "text": [
      "Map:   9%|▉         | 12/130 [00:46<05:37,  2.86s/ examples]"
     ]
    },
    {
     "name": "stdout",
     "output_type": "stream",
     "text": [
      "Processing shard 175 ..."
     ]
    },
    {
     "name": "stderr",
     "output_type": "stream",
     "text": [
      "Map:  42%|████▏     | 54/130 [00:47<00:39,  1.91 examples/s]"
     ]
    },
    {
     "name": "stdout",
     "output_type": "stream",
     "text": [
      "\n",
      "Processing shard 176 ...Processing shard 177 ..."
     ]
    },
    {
     "name": "stderr",
     "output_type": "stream",
     "text": [
      "Map:  62%|██████▏   | 80/130 [00:51<00:49,  1.01 examples/s]"
     ]
    },
    {
     "name": "stdout",
     "output_type": "stream",
     "text": [
      "\n"
     ]
    },
    {
     "name": "stderr",
     "output_type": "stream",
     "text": [
      "Map:  15%|█▌        | 20/130 [00:48<04:26,  2.43s/ examples]"
     ]
    },
    {
     "name": "stdout",
     "output_type": "stream",
     "text": [
      "\n",
      "Processing shard 178 ..."
     ]
    },
    {
     "name": "stderr",
     "output_type": "stream",
     "text": [
      "Map:  50%|█████     | 65/130 [00:48<00:29,  2.22 examples/s]"
     ]
    },
    {
     "name": "stdout",
     "output_type": "stream",
     "text": [
      "\n"
     ]
    },
    {
     "name": "stderr",
     "output_type": "stream",
     "text": [
      "Map:   8%|▊         | 11/130 [00:05<01:09,  1.72 examples/s]"
     ]
    },
    {
     "name": "stdout",
     "output_type": "stream",
     "text": [
      "Processing shard 179 ..."
     ]
    },
    {
     "name": "stderr",
     "output_type": "stream",
     "text": [
      "Map:  10%|█         | 13/130 [00:48<03:59,  2.04s/ examples]"
     ]
    },
    {
     "name": "stdout",
     "output_type": "stream",
     "text": [
      "Processing shard 180 ...\n"
     ]
    },
    {
     "name": "stderr",
     "output_type": "stream",
     "text": [
      "Map:  67%|██████▋   | 87/130 [00:52<00:31,  1.38 examples/s]"
     ]
    },
    {
     "name": "stdout",
     "output_type": "stream",
     "text": [
      "Processing shard 181 ...\n"
     ]
    },
    {
     "name": "stderr",
     "output_type": "stream",
     "text": [
      "Map:  53%|█████▎    | 69/130 [00:50<00:30,  2.00 examples/s]"
     ]
    },
    {
     "name": "stdout",
     "output_type": "stream",
     "text": [
      "\n",
      "Processing shard 182 ..."
     ]
    },
    {
     "name": "stderr",
     "output_type": "stream",
     "text": [
      "Map:  45%|████▌     | 59/130 [00:50<00:31,  2.26 examples/s]"
     ]
    },
    {
     "name": "stdout",
     "output_type": "stream",
     "text": [
      "\n",
      "Processing shard 183 ...\n",
      "Processing shard 184 ..."
     ]
    },
    {
     "name": "stderr",
     "output_type": "stream",
     "text": [
      "Map:  15%|█▌        | 20/130 [00:47<03:10,  1.74s/ examples]"
     ]
    },
    {
     "name": "stdout",
     "output_type": "stream",
     "text": [
      "Processing shard 185 ...\n",
      "Processing shard 186 ..."
     ]
    },
    {
     "name": "stderr",
     "output_type": "stream",
     "text": [
      "Map:   9%|▉         | 12/130 [00:05<01:03,  1.87 examples/s]"
     ]
    },
    {
     "name": "stdout",
     "output_type": "stream",
     "text": [
      "\n"
     ]
    },
    {
     "name": "stderr",
     "output_type": "stream",
     "text": [
      "Map:  12%|█▏        | 16/130 [00:52<07:30,  3.95s/ examples]"
     ]
    },
    {
     "name": "stdout",
     "output_type": "stream",
     "text": [
      "\n",
      "Processing shard 187 ...\n"
     ]
    },
    {
     "name": "stderr",
     "output_type": "stream",
     "text": [
      "Map:  27%|██▋       | 35/130 [00:47<05:07,  3.23s/ examples]"
     ]
    },
    {
     "name": "stdout",
     "output_type": "stream",
     "text": [
      "Processing shard 188 ..."
     ]
    },
    {
     "name": "stderr",
     "output_type": "stream",
     "text": [
      "Map:  68%|██████▊   | 88/130 [00:53<00:27,  1.54 examples/s]"
     ]
    },
    {
     "name": "stdout",
     "output_type": "stream",
     "text": [
      "Processing shard 189 ...\n"
     ]
    },
    {
     "name": "stderr",
     "output_type": "stream",
     "text": [
      "Map:  17%|█▋        | 22/130 [00:53<03:45,  2.09s/ examples]"
     ]
    },
    {
     "name": "stdout",
     "output_type": "stream",
     "text": [
      "\n"
     ]
    },
    {
     "name": "stderr",
     "output_type": "stream",
     "text": [
      "Map:  54%|█████▍    | 70/130 [00:51<00:29,  2.03 examples/s]"
     ]
    },
    {
     "name": "stdout",
     "output_type": "stream",
     "text": [
      "Processing shard 191 ...Processing shard 190 ..."
     ]
    },
    {
     "name": "stderr",
     "output_type": "stream",
     "text": [
      "Map:  38%|███▊      | 49/130 [00:50<00:57,  1.42 examples/s]"
     ]
    },
    {
     "name": "stdout",
     "output_type": "stream",
     "text": [
      "\n",
      "Processing shard 192 ..."
     ]
    },
    {
     "name": "stderr",
     "output_type": "stream",
     "text": [
      "Map:  16%|█▌        | 21/130 [00:24<01:47,  1.01 examples/s]"
     ]
    },
    {
     "name": "stdout",
     "output_type": "stream",
     "text": [
      "\n"
     ]
    },
    {
     "name": "stderr",
     "output_type": "stream",
     "text": [
      "Map:   8%|▊         | 11/130 [00:52<08:25,  4.25s/ examples]"
     ]
    },
    {
     "name": "stdout",
     "output_type": "stream",
     "text": [
      "\n",
      "Processing shard 193 ...\n"
     ]
    },
    {
     "name": "stderr",
     "output_type": "stream",
     "text": [
      "Map:  16%|█▌        | 21/130 [00:48<02:25,  1.33s/ examples]"
     ]
    },
    {
     "name": "stdout",
     "output_type": "stream",
     "text": [
      "Processing shard 194 ..."
     ]
    },
    {
     "name": "stderr",
     "output_type": "stream",
     "text": [
      "Map:  17%|█▋        | 22/130 [00:24<01:20,  1.34 examples/s]"
     ]
    },
    {
     "name": "stdout",
     "output_type": "stream",
     "text": [
      "\n"
     ]
    },
    {
     "name": "stderr",
     "output_type": "stream",
     "text": [
      "Map:  50%|█████     | 65/130 [00:52<01:13,  1.13s/ examples]"
     ]
    },
    {
     "name": "stdout",
     "output_type": "stream",
     "text": [
      "Processing shard 195 ...Processing shard 196 ...\n",
      "\n",
      "Processing shard 197 ...Processing shard 198 ..."
     ]
    },
    {
     "name": "stderr",
     "output_type": "stream",
     "text": [
      "Map:  10%|█         | 13/130 [00:05<01:01,  1.89 examples/s]"
     ]
    },
    {
     "name": "stdout",
     "output_type": "stream",
     "text": [
      "\n",
      "\n"
     ]
    },
    {
     "name": "stderr",
     "output_type": "stream",
     "text": [
      "Map:  46%|████▌     | 60/130 [00:50<00:35,  1.99 examples/s]"
     ]
    },
    {
     "name": "stdout",
     "output_type": "stream",
     "text": [
      "Processing shard 199 ..."
     ]
    },
    {
     "name": "stderr",
     "output_type": "stream",
     "text": [
      "Map:   8%|▊         | 11/130 [00:52<09:05,  4.58s/ examples]"
     ]
    },
    {
     "name": "stdout",
     "output_type": "stream",
     "text": [
      "\n",
      "Processing shard 200 ..."
     ]
    },
    {
     "name": "stderr",
     "output_type": "stream",
     "text": [
      "Map:  18%|█▊        | 23/130 [00:25<01:00,  1.77 examples/s]"
     ]
    },
    {
     "name": "stdout",
     "output_type": "stream",
     "text": [
      "\n"
     ]
    },
    {
     "name": "stderr",
     "output_type": "stream",
     "text": [
      "Map:  39%|███▉      | 51/130 [00:52<00:55,  1.42 examples/s]"
     ]
    },
    {
     "name": "stdout",
     "output_type": "stream",
     "text": [
      "Processing shard 201 ...\n",
      "Processing shard 202 ...\n",
      "Processing shard 203 ...\n",
      "Processing shard 204 ...\n",
      "Processing shard 205 ...\n",
      "Processing shard 206 ...\n",
      "Processing shard 207 ...\n",
      "Processing shard 208 ...\n",
      "Processing shard 209 ...\n",
      "Processing shard 210 ...\n",
      "Processing shard 211 ...\n",
      "Processing shard 212 ...\n",
      "Processing shard 213 ...\n",
      "Processing shard 214 ...\n",
      "Processing shard 215 ...\n",
      "Processing shard 216 ...\n",
      "Processing shard 217 ...\n",
      "Processing shard 218 ...\n",
      "Processing shard 219 ...\n",
      "Processing shard 220 ...\n",
      "Processing shard 221 ...\n",
      "Processing shard 222 ...\n",
      "Processing shard 223 ...\n",
      "Processing shard 224 ...Processing shard 225 ...\n",
      "\n",
      "Processing shard 226 ...\n",
      "Processing shard 227 ...\n",
      "Processing shard 228 ...Processing shard 229 ...\n",
      "\n",
      "Processing shard 230 ...\n",
      "Processing shard 231 ...\n",
      "Processing shard 232 ...\n",
      "Processing shard 233 ...\n",
      "Processing shard 234 ...\n",
      "Processing shard 235 ...\n",
      "Processing shard 236 ...Processing shard 237 ...\n",
      "\n",
      "Processing shard 238 ...\n",
      "Processing shard 239 ...\n",
      "Processing shard 240 ...\n",
      "Processing shard 241 ...\n",
      "Processing shard 242 ...\n",
      "Processing shard 243 ...\n",
      "Processing shard 244 ...\n",
      "Processing shard 245 ...\n",
      "Processing shard 246 ...\n",
      "Processing shard 247 ...\n",
      "Processing shard 248 ...\n",
      "Processing shard 249 ...\n",
      "Processing shard 250 ...\n",
      "Processing shard 251 ...\n",
      "Processing shard 252 ...\n",
      "Processing shard 253 ...\n",
      "Processing shard 254 ...\n",
      "Processing shard 255 ...\n",
      "Processing shard 256 ...\n",
      "Processing shard 257 ...\n",
      "Processing shard 258 ...\n",
      "Processing shard 259 ...\n",
      "Processing shard 260 ...\n",
      "Processing shard 261 ...\n",
      "Processing shard 262 ...\n",
      "Processing shard 263 ...\n",
      "Processing shard 265 ...Processing shard 264 ...\n",
      "\n",
      "Processing shard 266 ...\n",
      "Processing shard 267 ...\n",
      "Processing shard 268 ...\n",
      "Processing shard 269 ...\n",
      "Processing shard 270 ...\n",
      "Processing shard 271 ...\n",
      "Processing shard 272 ...\n",
      "Processing shard 273 ...\n",
      "Processing shard 274 ...\n",
      "Processing shard 275 ...\n",
      "Processing shard 276 ...\n",
      "Processing shard 277 ...\n",
      "Processing shard 278 ...\n",
      "Processing shard 279 ...\n",
      "Processing shard 280 ...\n",
      "Processing shard 281 ...\n",
      "Processing shard 282 ...\n",
      "Processing shard 283 ...\n",
      "Processing shard 284 ...\n",
      "Processing shard 285 ...\n",
      "Processing shard 286 ...\n",
      "Processing shard 287 ...\n",
      "Processing shard 288 ...\n",
      "Processing shard 289 ...\n",
      "Processing shard 290 ...\n",
      "Processing shard 291 ...\n",
      "Processing shard 292 ...\n",
      "Processing shard 293 ...\n",
      "Processing shard 294 ...\n",
      "Processing shard 295 ...\n",
      "Processing shard 296 ...\n",
      "Processing shard 297 ...Processing shard 298 ...\n",
      "Processing shard 299 ...\n",
      "\n",
      "Processing shard 300 ...\n",
      "Processing shard 302 ...Processing shard 301 ...\n",
      "\n",
      "Processing shard 303 ...Processing shard 304 ...\n",
      "Processing shard 305 ...\n",
      "Processing shard 306 ...\n",
      "\n",
      "Processing shard 307 ...\n",
      "Processing shard 308 ...\n",
      "Processing shard 309 ...\n",
      "Processing shard 310 ...\n",
      "Processing shard 311 ...\n",
      "Processing shard 312 ...\n",
      "Processing shard 313 ...\n",
      "Processing shard 314 ...Processing shard 315 ...\n",
      "\n",
      "Processing shard 316 ...\n",
      "Processing shard 317 ...\n",
      "Processing shard 318 ...\n",
      "Processing shard 319 ...\n",
      "Processing shard 320 ...\n",
      "Processing shard 321 ...\n",
      "Processing shard 322 ...\n",
      "Processing shard 323 ...\n",
      "Processing shard 324 ...\n",
      "Processing shard 325 ...\n",
      "Processing shard 326 ...\n",
      "Processing shard 327 ...\n",
      "Processing shard 328 ...\n",
      "Processing shard 329 ...\n",
      "Processing shard 330 ...\n",
      "Processing shard 331 ...\n",
      "Processing shard 332 ...\n",
      "Processing shard 333 ...\n",
      "Processing shard 334 ...\n",
      "Processing shard 335 ...\n",
      "Processing shard 336 ...\n",
      "Processing shard 337 ...\n",
      "Processing shard 338 ...\n",
      "Processing shard 339 ...\n",
      "Processing shard 340 ...\n",
      "Processing shard 341 ...\n",
      "Processing shard 342 ...\n",
      "Processing shard 343 ...\n",
      "Processing shard 344 ...\n",
      "Processing shard 345 ...\n",
      "Processing shard 346 ...\n",
      "Processing shard 347 ...\n",
      "Processing shard 348 ...\n",
      "Processing shard 349 ...\n",
      "Processing shard 350 ...\n",
      "Processing shard 351 ...\n",
      "Processing shard 352 ...\n",
      "Processing shard 353 ...\n",
      "Processing shard 354 ...\n",
      "Processing shard 355 ...\n",
      "Processing shard 356 ...\n",
      "Processing shard 357 ...\n",
      "Processing shard 358 ...\n",
      "Processing shard 359 ...\n",
      "Processing shard 360 ...\n",
      "Processing shard 361 ...\n",
      "Processing shard 362 ...\n",
      "Processing shard 363 ...\n",
      "Processing shard 364 ...\n",
      "Processing shard 365 ...\n",
      "\n",
      "Processing shard 366 ...Processing shard 367 ...\n",
      "Processing shard 368 ...\n",
      "Processing shard 369 ...\n",
      "Processing shard 370 ...\n",
      "Processing shard 371 ...\n",
      "Processing shard 372 ...\n",
      "Processing shard 373 ...\n",
      "Processing shard 374 ...\n",
      "Processing shard 375 ...\n",
      "Processing shard 376 ...\n",
      "Processing shard 377 ...\n",
      "Processing shard 378 ...\n",
      "Processing shard 379 ...\n",
      "Processing shard 380 ...\n",
      "Processing shard 381 ...Processing shard 382 ...\n",
      "\n",
      "Processing shard 384 ...Processing shard 383 ...\n",
      "\n",
      "Processing shard 385 ...\n",
      "Processing shard 386 ...\n",
      "Processing shard 387 ...\n",
      "Processing shard 389 ...Processing shard 388 ...\n",
      "\n",
      "Processing shard 390 ...\n",
      "Processing shard 391 ...Processing shard 392 ...\n",
      "\n",
      "Processing shard 393 ...\n",
      "Processing shard 394 ...\n",
      "Processing shard 395 ...\n",
      "Processing shard 396 ...Processing shard 397 ...Processing shard 398 ...\n",
      "\n",
      "\n",
      "Processing shard 399 ...\n",
      "Processing shard 400 ...\n",
      "Processing shard 401 ...\n",
      "Processing shard 402 ...\n",
      "Processing shard 403 ...\n",
      "Processing shard 404 ...\n",
      "Processing shard 405 ...\n",
      "Processing shard 406 ...\n",
      "Processing shard 407 ...\n",
      "Processing shard 408 ...\n",
      "Processing shard 409 ...\n",
      "Processing shard 410 ...\n",
      "Processing shard 411 ...\n",
      "Processing shard 412 ...\n",
      "Processing shard 413 ...\n",
      "Processing shard 414 ...\n",
      "Processing shard 415 ...\n",
      "Processing shard 416 ...\n",
      "Processing shard 417 ...\n",
      "Processing shard 418 ...\n",
      "Processing shard 419 ...\n",
      "Processing shard 420 ...\n",
      "Processing shard 421 ...\n",
      "Processing shard 422 ...\n",
      "Processing shard 423 ...\n",
      "Processing shard 424 ...\n",
      "Processing shard 425 ...\n",
      "Processing shard 426 ...\n",
      "Processing shard 427 ...\n",
      "Processing shard 428 ...\n",
      "Processing shard 429 ...\n",
      "Processing shard 430 ...\n",
      "Processing shard 431 ...\n",
      "Processing shard 432 ...\n",
      "Processing shard 433 ...\n",
      "Processing shard 434 ...\n",
      "Processing shard 435 ...\n",
      "Processing shard 436 ...\n",
      "Processing shard 437 ...\n",
      "Processing shard 438 ...\n",
      "Processing shard 439 ...\n",
      "Processing shard 440 ...\n",
      "Processing shard 441 ...\n",
      "Processing shard 442 ...\n",
      "Processing shard 443 ...\n",
      "Processing shard 444 ...\n",
      "Processing shard 445 ...\n",
      "Processing shard 446 ...\n",
      "Processing shard 447 ...\n",
      "Processing shard 448 ...\n",
      "Processing shard 449 ...\n",
      "Processing shard 450 ...\n",
      "Processing shard 451 ...\n",
      "Processing shard 452 ...\n",
      "Processing shard 453 ...\n",
      "Processing shard 454 ...\n",
      "Processing shard 455 ...\n",
      "Processing shard 456 ...\n",
      "Processing shard 457 ...\n",
      "Processing shard 458 ...\n",
      "Processing shard 459 ...\n",
      "Processing shard 460 ...Processing shard 461 ...\n",
      "\n",
      "Processing shard 462 ...\n",
      "Processing shard 464 ...Processing shard 463 ...Processing shard 465 ...Processing shard 466 ...Processing shard 467 ...\n",
      "\n",
      "\n",
      "\n",
      "\n",
      "Processing shard 468 ...\n",
      "Processing shard 469 ...\n",
      "Processing shard 470 ...Processing shard 471 ...\n",
      "\n",
      "Processing shard 472 ...\n",
      "Processing shard 473 ...\n",
      "Processing shard 474 ...\n",
      "Processing shard 475 ...Processing shard 476 ...\n",
      "\n",
      "Processing shard 477 ...Processing shard 478 ...\n",
      "\n",
      "Processing shard 479 ...\n",
      "Processing shard 480 ...\n",
      "Processing shard 481 ...\n",
      "Processing shard 482 ...\n",
      "Processing shard 483 ...\n",
      "Processing shard 484 ...\n",
      "Processing shard 485 ...\n",
      "Processing shard 486 ...\n",
      "Processing shard 487 ...\n",
      "Processing shard 488 ...\n",
      "Processing shard 489 ...\n",
      "Processing shard 490 ...\n",
      "Processing shard 491 ...\n",
      "Processing shard 492 ...Processing shard 493 ...\n",
      "\n",
      "Processing shard 494 ...\n",
      "Processing shard 495 ...\n",
      "Processing shard 496 ...\n",
      "Processing shard 497 ...\n",
      "Processing shard 498 ...\n",
      "Processing shard 499 ...\n",
      "Processing shard 500 ...\n",
      "Processing shard 501 ...\n",
      "Processing shard 502 ...\n",
      "Processing shard 503 ...\n",
      "Processing shard 504 ...\n",
      "Processing shard 505 ...\n",
      "Processing shard 506 ...\n",
      "Processing shard 507 ...\n",
      "Processing shard 508 ...\n",
      "Processing shard 509 ...\n",
      "Processing shard 510 ...\n",
      "Processing shard 511 ...\n",
      "Processing shard 512 ...\n",
      "Processing shard 513 ...\n",
      "Processing shard 514 ...\n",
      "Processing shard 515 ...\n",
      "Processing shard 516 ...\n",
      "Processing shard 517 ...\n",
      "Processing shard 518 ...\n",
      "Processing shard 519 ...\n",
      "Processing shard 520 ...\n",
      "Processing shard 521 ...\n",
      "Processing shard 522 ...\n",
      "Processing shard 523 ...\n",
      "Processing shard 524 ...\n",
      "Processing shard 525 ...\n",
      "Processing shard 526 ...\n",
      "Processing shard 527 ...\n",
      "Processing shard 528 ...\n",
      "Processing shard 529 ...\n",
      "Processing shard 530 ...\n",
      "Processing shard 531 ...\n",
      "Processing shard 532 ...\n",
      "Processing shard 533 ...\n",
      "Processing shard 534 ...\n",
      "Processing shard 535 ...\n",
      "Processing shard 536 ...\n",
      "Processing shard 537 ...\n",
      "Processing shard 538 ...\n",
      "Processing shard 539 ...\n",
      "Processing shard 540 ...\n",
      "Processing shard 541 ...\n",
      "Processing shard 542 ...\n",
      "Processing shard 543 ...\n",
      "Processing shard 544 ...\n",
      "Processing shard 545 ...\n",
      "Processing shard 546 ...\n",
      "Processing shard 547 ...\n",
      "Processing shard 548 ...\n",
      "Processing shard 549 ...\n",
      "Processing shard 550 ...\n",
      "Processing shard 551 ...\n",
      "Processing shard 552 ...\n",
      "Processing shard 553 ...\n",
      "Processing shard 554 ...\n",
      "Processing shard 555 ...\n",
      "Processing shard 556 ...\n",
      "Processing shard 557 ...\n",
      "Processing shard 558 ...\n",
      "Processing shard 559 ...\n",
      "Processing shard 560 ...\n",
      "Processing shard 561 ...\n",
      "Processing shard 562 ...\n",
      "Processing shard 563 ...\n",
      "Processing shard 564 ...\n",
      "Processing shard 565 ...\n",
      "Processing shard 566 ...\n",
      "Processing shard 567 ...Processing shard 568 ...\n",
      "\n",
      "Processing shard 569 ...\n",
      "Processing shard 570 ...\n",
      "Processing shard 571 ...\n",
      "Processing shard 572 ...\n",
      "Processing shard 573 ...\n",
      "Processing shard 574 ...\n",
      "Processing shard 575 ...\n",
      "Processing shard 576 ...\n",
      "Processing shard 577 ...\n",
      "Processing shard 578 ...\n",
      "Processing shard 579 ...\n",
      "Processing shard 580 ...\n",
      "Processing shard 581 ...\n",
      "Processing shard 582 ...\n",
      "Processing shard 583 ...\n",
      "Processing shard 584 ...\n",
      "Processing shard 585 ...\n",
      "Processing shard 586 ...\n",
      "Processing shard 587 ...\n",
      "Processing shard 588 ...\n",
      "Processing shard 589 ...\n",
      "Processing shard 590 ...\n",
      "Processing shard 591 ...\n",
      "Processing shard 592 ...\n",
      "Processing shard 593 ...\n",
      "Processing shard 594 ...\n",
      "Processing shard 595 ...\n",
      "Processing shard 596 ...\n",
      "Processing shard 597 ...\n",
      "Processing shard 598 ...\n",
      "Processing shard 599 ...\n",
      "Processing shard 600 ...\n",
      "Processing shard 601 ...\n",
      "Processing shard 602 ...\n",
      "Processing shard 603 ...\n",
      "Processing shard 604 ...\n",
      "Processing shard 605 ...\n",
      "Processing shard 606 ...\n",
      "Processing shard 607 ...\n",
      "Processing shard 608 ...\n",
      "Processing shard 609 ...\n",
      "Processing shard 610 ...\n",
      "Processing shard 611 ...\n",
      "Processing shard 612 ...\n",
      "Processing shard 613 ...Processing shard 614 ...\n",
      "\n",
      "Processing shard 615 ...\n",
      "Processing shard 616 ...\n",
      "Processing shard 617 ...\n",
      "Processing shard 618 ...\n",
      "Processing shard 619 ...\n",
      "Processing shard 620 ...\n",
      "Processing shard 621 ...\n",
      "Processing shard 622 ...\n",
      "Processing shard 623 ...\n",
      "Processing shard 624 ...\n",
      "Processing shard 625 ...\n",
      "Processing shard 626 ...\n",
      "Processing shard 627 ...\n",
      "Processing shard 628 ...\n",
      "Processing shard 629 ...\n",
      "Processing shard 630 ...\n",
      "Processing shard 631 ...\n",
      "Processing shard 632 ...\n",
      "Processing shard 633 ...\n",
      "Processing shard 634 ...\n",
      "Shard 635 already exists!\n",
      "Shard 636 already exists!\n",
      "Shard 637 already exists!\n",
      "Processing shard 639 ...Shard 638 already exists!\n",
      "\n",
      "Processing shard 640 ...\n",
      "Processing shard 641 ...\n",
      "Processing shard 642 ...\n",
      "Processing shard 643 ...\n",
      "Processing shard 644 ...\n",
      "Processing shard 645 ...\n",
      "Processing shard 646 ...\n",
      "Processing shard 647 ...\n",
      "Processing shard 648 ...\n",
      "Processing shard 649 ...\n",
      "Processing shard 650 ...\n",
      "Processing shard 651 ...\n",
      "Processing shard 652 ...\n",
      "Processing shard 653 ...\n",
      "Processing shard 654 ...\n",
      "Processing shard 655 ...\n",
      "Processing shard 656 ...\n",
      "Processing shard 657 ...\n",
      "Processing shard 658 ...\n",
      "Processing shard 659 ...\n",
      "Processing shard 660 ...\n",
      "Processing shard 661 ...\n",
      "Processing shard 662 ...\n",
      "Processing shard 663 ...\n",
      "Processing shard 664 ...\n",
      "Processing shard 665 ...\n",
      "Processing shard 666 ...\n",
      "Processing shard 667 ...\n",
      "Processing shard 668 ...\n",
      "Processing shard 669 ...\n",
      "Processing shard 670 ...\n",
      "Processing shard 671 ...\n",
      "Processing shard 672 ...\n",
      "Processing shard 673 ...\n",
      "Processing shard 674 ...\n",
      "Processing shard 675 ...\n",
      "Processing shard 676 ...\n",
      "Processing shard 677 ...\n",
      "Processing shard 678 ...\n",
      "Processing shard 679 ...\n",
      "Processing shard 680 ...\n",
      "Processing shard 681 ...\n",
      "Processing shard 682 ...\n",
      "Processing shard 683 ...\n",
      "Processing shard 684 ...\n",
      "Processing shard 685 ...\n",
      "Processing shard 686 ...\n",
      "\n",
      "Processing shard 687 ...Processing shard 688 ...\n",
      "Processing shard 689 ...\n",
      "Processing shard 690 ...\n",
      "Processing shard 691 ...\n",
      "Processing shard 692 ...\n",
      "Processing shard 693 ...\n",
      "Processing shard 694 ...\n",
      "Processing shard 695 ...\n",
      "Processing shard 696 ...\n",
      "Processing shard 697 ...\n",
      "Processing shard 698 ...\n",
      "Processing shard 699 ...\n",
      "Processing shard 700 ...\n",
      "Processing shard 701 ...\n",
      "Processing shard 702 ...\n",
      "Processing shard 703 ...\n",
      "Processing shard 704 ...\n",
      "Processing shard 705 ...\n",
      "Processing shard 706 ...\n",
      "Processing shard 707 ...\n",
      "Processing shard 708 ...\n",
      "Processing shard 709 ...\n",
      "Processing shard 710 ...\n",
      "Processing shard 711 ...\n",
      "Processing shard 712 ...\n",
      "Processing shard 713 ...\n",
      "Processing shard 714 ...\n",
      "Processing shard 715 ...\n",
      "Processing shard 716 ...\n",
      "Processing shard 717 ...\n",
      "Processing shard 718 ...\n",
      "Processing shard 719 ...\n",
      "Processing shard 720 ...\n",
      "Processing shard 721 ...\n",
      "Processing shard 722 ...\n",
      "Processing shard 723 ...\n",
      "Processing shard 724 ...\n",
      "Processing shard 725 ...\n",
      "Processing shard 726 ...\n",
      "Processing shard 727 ...Processing shard 728 ...\n",
      "\n",
      "Processing shard 729 ...\n",
      "Processing shard 730 ...\n",
      "Processing shard 731 ...\n",
      "Processing shard 732 ...\n",
      "Processing shard 733 ...\n",
      "Processing shard 734 ...\n",
      "Processing shard 735 ...\n",
      "Processing shard 736 ...\n",
      "Processing shard 737 ...\n",
      "Processing shard 738 ...\n",
      "Processing shard 739 ...\n",
      "Processing shard 740 ...\n",
      "Processing shard 741 ...\n",
      "Processing shard 742 ...\n",
      "Processing shard 743 ...\n",
      "Processing shard 744 ...\n",
      "Processing shard 745 ...\n",
      "Processing shard 746 ...\n",
      "Processing shard 747 ...\n",
      "Processing shard 748 ...\n",
      "Processing shard 749 ...\n",
      "Processing shard 750 ...\n",
      "Processing shard 751 ...\n",
      "Processing shard 752 ...\n",
      "Processing shard 753 ...\n",
      "Processing shard 754 ...\n",
      "Processing shard 755 ...\n",
      "Processing shard 756 ...\n",
      "Processing shard 757 ...\n",
      "Processing shard 758 ...\n",
      "Processing shard 759 ...\n",
      "Processing shard 760 ...\n",
      "Processing shard 761 ...\n",
      "Processing shard 762 ...\n",
      "Processing shard 763 ...\n",
      "Processing shard 764 ...\n",
      "Processing shard 765 ...\n",
      "Processing shard 766 ...\n",
      "Processing shard 767 ...\n",
      "Processing shard 768 ...\n",
      "Processing shard 769 ...\n",
      "Processing shard 770 ...\n",
      "Processing shard 771 ...\n",
      "Processing shard 772 ...\n",
      "Processing shard 773 ...\n",
      "Processing shard 774 ...\n",
      "Processing shard 775 ...\n",
      "Processing shard 776 ...\n",
      "Processing shard 777 ...\n",
      "Processing shard 778 ...\n",
      "Processing shard 779 ...\n",
      "Processing shard 780 ...\n",
      "Processing shard 781 ...\n",
      "Processing shard 782 ...\n",
      "Processing shard 783 ...\n",
      "Processing shard 784 ...\n",
      "Processing shard 785 ...\n",
      "Processing shard 786 ...\n",
      "Processing shard 787 ...\n",
      "Processing shard 788 ...\n",
      "Processing shard 789 ...\n",
      "Processing shard 790 ...\n",
      "Processing shard 791 ...\n",
      "Processing shard 792 ...\n",
      "Processing shard 793 ...\n",
      "Processing shard 794 ...\n",
      "Processing shard 795 ...\n",
      "Processing shard 796 ...\n",
      "Processing shard 797 ...\n",
      "Processing shard 798 ...\n",
      "Processing shard 799 ...\n",
      "Processing shard 800 ...\n",
      "Processing shard 801 ...\n",
      "Processing shard 802 ...\n",
      "Processing shard 803 ...Processing shard 804 ...\n",
      "\n",
      "Processing shard 805 ...\n",
      "Processing shard 806 ...\n",
      "Processing shard 807 ...\n",
      "Processing shard 808 ...\n",
      "Processing shard 809 ...\n",
      "Processing shard 810 ...\n",
      "Processing shard 811 ...\n",
      "Processing shard 812 ...\n",
      "Processing shard 813 ...\n",
      "Processing shard 814 ...\n",
      "Processing shard 815 ...\n",
      "Processing shard 816 ...\n",
      "Processing shard 817 ...\n",
      "Processing shard 818 ...\n",
      "Processing shard 819 ...\n",
      "Processing shard 820 ...\n",
      "Processing shard 821 ...\n",
      "Processing shard 822 ...\n",
      "Processing shard 823 ...\n",
      "Processing shard 824 ...\n",
      "Processing shard 825 ...\n",
      "Processing shard 826 ...\n",
      "Processing shard 827 ...\n",
      "Processing shard 828 ...\n",
      "Processing shard 829 ...\n",
      "Processing shard 830 ...\n",
      "Processing shard 831 ...\n",
      "Processing shard 832 ...\n",
      "Processing shard 833 ...\n",
      "Processing shard 834 ...\n",
      "Processing shard 835 ...\n",
      "Processing shard 836 ...\n",
      "Processing shard 837 ...\n",
      "Processing shard 838 ...\n",
      "Processing shard 839 ...\n",
      "Processing shard 840 ...\n",
      "Processing shard 841 ...\n",
      "Processing shard 842 ...\n",
      "Processing shard 843 ...\n",
      "Processing shard 844 ...\n",
      "Processing shard 845 ...\n",
      "Processing shard 846 ...\n",
      "Processing shard 847 ...\n",
      "Processing shard 848 ...\n",
      "Processing shard 849 ...\n",
      "Processing shard 850 ...\n",
      "Processing shard 851 ...\n",
      "Processing shard 852 ...\n",
      "Processing shard 853 ...\n",
      "Processing shard 854 ...\n",
      "Processing shard 855 ...\n",
      "Processing shard 856 ...\n",
      "Processing shard 857 ...\n",
      "Processing shard 858 ...\n",
      "Processing shard 859 ...\n",
      "Processing shard 860 ...\n",
      "Processing shard 861 ...\n",
      "Processing shard 862 ...\n",
      "Processing shard 863 ...\n",
      "Processing shard 864 ...\n",
      "Processing shard 865 ...\n",
      "Processing shard 866 ...\n",
      "Processing shard 867 ...\n",
      "Processing shard 868 ...\n",
      "Processing shard 869 ...\n",
      "Processing shard 870 ...\n",
      "Processing shard 871 ...\n",
      "Processing shard 872 ...\n",
      "Processing shard 873 ...\n",
      "Processing shard 874 ...\n",
      "Processing shard 875 ...\n",
      "Processing shard 876 ...\n",
      "Processing shard 877 ...\n",
      "Processing shard 878 ...\n",
      "Processing shard 879 ...\n",
      "Processing shard 880 ...\n",
      "Processing shard 881 ...\n",
      "Processing shard 882 ...\n",
      "Processing shard 883 ...\n",
      "Processing shard 884 ...\n",
      "Processing shard 885 ...\n",
      "Processing shard 886 ...\n",
      "Processing shard 887 ...\n",
      "Processing shard 888 ...\n",
      "Processing shard 889 ...\n",
      "Processing shard 890 ...\n",
      "Processing shard 891 ...\n",
      "Processing shard 892 ...\n",
      "Processing shard 893 ...\n",
      "Processing shard 894 ...\n",
      "Processing shard 895 ...\n",
      "Processing shard 896 ...\n",
      "Processing shard 897 ...\n",
      "Processing shard 898 ...\n",
      "Processing shard 899 ...\n",
      "Processing shard 900 ...\n",
      "Processing shard 901 ...\n",
      "Processing shard 902 ...\n",
      "Processing shard 903 ...\n",
      "Processing shard 904 ...\n",
      "Processing shard 905 ...\n",
      "Processing shard 906 ...\n",
      "Processing shard 907 ...\n",
      "Processing shard 908 ...\n",
      "Processing shard 909 ...\n",
      "Processing shard 910 ...\n",
      "Processing shard 911 ...\n",
      "Processing shard 912 ...\n",
      "Processing shard 913 ...\n",
      "Processing shard 914 ...\n",
      "Processing shard 915 ...\n",
      "Processing shard 916 ...\n",
      "Processing shard 917 ...\n",
      "Processing shard 918 ...\n",
      "Processing shard 919 ...\n",
      "Processing shard 920 ...\n",
      "Processing shard 921 ...\n",
      "Processing shard 922 ...\n",
      "Processing shard 923 ...\n",
      "Processing shard 924 ...\n",
      "Processing shard 925 ...\n",
      "Processing shard 926 ...\n",
      "Processing shard 927 ...\n",
      "Processing shard 928 ...\n",
      "Processing shard 929 ...\n",
      "Processing shard 930 ...\n",
      "Processing shard 931 ...\n",
      "Processing shard 932 ...\n",
      "Processing shard 933 ...\n",
      "Processing shard 934 ...\n",
      "Processing shard 935 ...\n",
      "Processing shard 936 ...\n",
      "Processing shard 937 ...\n",
      "Processing shard 938 ...\n",
      "Processing shard 939 ...\n",
      "Processing shard 940 ...\n",
      "Processing shard 941 ...\n",
      "Processing shard 942 ...\n",
      "Processing shard 943 ...\n",
      "Processing shard 944 ...\n",
      "Processing shard 945 ...\n",
      "Processing shard 946 ...\n",
      "Processing shard 947 ...\n",
      "Processing shard 948 ...\n",
      "Processing shard 949 ...\n",
      "Processing shard 950 ...\n",
      "Processing shard 951 ...\n",
      "Processing shard 952 ...\n",
      "Processing shard 953 ...\n",
      "Processing shard 954 ...\n",
      "Processing shard 955 ...\n",
      "Processing shard 956 ...\n",
      "Processing shard 957 ...\n",
      "Processing shard 958 ...\n",
      "Processing shard 959 ...\n",
      "Processing shard 960 ...\n",
      "Processing shard 961 ...\n",
      "Processing shard 962 ...\n",
      "Processing shard 963 ...\n",
      "Processing shard 964 ...\n",
      "Processing shard 965 ...\n",
      "Processing shard 966 ...\n",
      "Processing shard 967 ...\n",
      "Processing shard 968 ...\n",
      "Processing shard 969 ...\n",
      "Processing shard 970 ...\n",
      "Processing shard 971 ...\n",
      "Processing shard 972 ...\n",
      "Processing shard 973 ...\n",
      "Processing shard 974 ...\n",
      "Processing shard 975 ...\n",
      "Processing shard 976 ...\n",
      "Processing shard 977 ...\n",
      "Processing shard 978 ...\n",
      "Processing shard 979 ...\n",
      "Processing shard 980 ...\n",
      "Processing shard 981 ...\n",
      "Processing shard 982 ...\n",
      "Processing shard 983 ...\n",
      "Processing shard 984 ...\n",
      "Processing shard 985 ...\n",
      "Processing shard 986 ...\n",
      "Processing shard 987 ...\n",
      "Processing shard 988 ...\n",
      "Processing shard 989 ...\n",
      "Processing shard 990 ...\n",
      "Processing shard 991 ...\n",
      "Processing shard 992 ...\n",
      "Processing shard 993 ...\n",
      "Processing shard 994 ...\n",
      "Processing shard 995 ...\n",
      "Processing shard 996 ...\n",
      "Processing shard 997 ...\n",
      "Processing shard 998 ...\n",
      "Processing shard 999 ...\n",
      "Processing shard 1000 ...\n",
      "Processing shard 1001 ...\n",
      "Processing shard 1002 ...\n",
      "Processing shard 1003 ...\n",
      "Processing shard 1004 ...\n",
      "Processing shard 1005 ...\n",
      "Processing shard 1006 ...\n",
      "Processing shard 1007 ...\n",
      "Processing shard 1008 ...\n",
      "Processing shard 1009 ...\n",
      "Processing shard 1010 ...\n",
      "Processing shard 1011 ...\n",
      "Processing shard 1012 ...\n",
      "Processing shard 1013 ...\n",
      "Processing shard 1014 ...\n",
      "Processing shard 1015 ...\n",
      "Processing shard 1016 ...\n",
      "Processing shard 1017 ...\n",
      "Processing shard 1018 ...\n",
      "Processing shard 1019 ...\n",
      "Processing shard 1020 ...\n",
      "Processing shard 1021 ...\n",
      "Processing shard 1022 ...\n",
      "Processing shard 1023 ...Processing shard 1024 ...\n",
      "\n",
      "Processing shard 1025 ...\n",
      "Processing shard 1026 ...\n",
      "Processing shard 1027 ...\n",
      "Processing shard 1028 ...\n",
      "Processing shard 1029 ...\n",
      "Processing shard 1030 ...\n",
      "Processing shard 1031 ...\n",
      "Processing shard 1032 ...\n",
      "Processing shard 1033 ...\n",
      "Processing shard 1034 ...\n",
      "Processing shard 1035 ...\n",
      "Processing shard 1036 ...Processing shard 1037 ...\n",
      "\n",
      "Processing shard 1038 ...\n",
      "Processing shard 1039 ...Processing shard 1040 ...\n",
      "\n",
      "Processing shard 1041 ...\n",
      "Processing shard 1042 ...\n",
      "Processing shard 1043 ...\n",
      "Processing shard 1044 ...\n",
      "Processing shard 1045 ...\n",
      "Processing shard 1046 ...\n",
      "Processing shard 1047 ...\n",
      "Processing shard 1048 ...\n",
      "Processing shard 1049 ...\n",
      "Processing shard 1050 ...\n",
      "Processing shard 1051 ...\n",
      "Processing shard 1052 ...\n",
      "Processing shard 1053 ...\n",
      "Processing shard 1054 ...\n",
      "Processing shard 1055 ...\n",
      "Processing shard 1056 ...\n",
      "Processing shard 1057 ...\n",
      "Processing shard 1058 ...\n",
      "Processing shard 1059 ...\n",
      "Processing shard 1060 ...\n",
      "Processing shard 1061 ...\n",
      "Processing shard 1062 ...\n",
      "Processing shard 1063 ...\n",
      "Processing shard 1064 ...\n",
      "Processing shard 1065 ...\n",
      "Processing shard 1066 ...\n",
      "Processing shard 1067 ...\n",
      "Processing shard 1068 ...\n",
      "Processing shard 1069 ...\n",
      "Processing shard 1070 ...\n",
      "Processing shard 1071 ...\n",
      "Processing shard 1072 ...\n",
      "Processing shard 1073 ...\n",
      "Processing shard 1074 ...\n",
      "Processing shard 1075 ...\n",
      "Processing shard 1076 ...\n",
      "Processing shard 1077 ...\n",
      "Processing shard 1078 ...\n",
      "Processing shard 1079 ...\n",
      "Processing shard 1080 ...\n",
      "Processing shard 1081 ...\n",
      "Processing shard 1082 ...\n",
      "Processing shard 1083 ...\n",
      "Processing shard 1084 ...\n",
      "Processing shard 1085 ...\n",
      "Processing shard 1086 ...\n",
      "Processing shard 1087 ...\n",
      "Processing shard 1088 ...\n",
      "Processing shard 1089 ...\n",
      "Processing shard 1090 ...\n",
      "Processing shard 1091 ...\n",
      "Processing shard 1092 ...\n",
      "Processing shard 1093 ...\n",
      "Processing shard 1094 ...\n",
      "Processing shard 1095 ...\n",
      "Processing shard 1096 ...\n",
      "Processing shard 1097 ...\n",
      "Processing shard 1098 ...\n",
      "Processing shard 1099 ...\n",
      "Processing shard 1100 ...\n",
      "Processing shard 1101 ...\n",
      "Processing shard 1102 ...\n",
      "Processing shard 1103 ...Processing shard 1104 ...\n",
      "\n",
      "Processing shard 1105 ...\n",
      "Processing shard 1106 ...\n",
      "Processing shard 1107 ...\n",
      "Processing shard 1108 ...\n",
      "Processing shard 1109 ...\n",
      "Processing shard 1110 ...\n",
      "Processing shard 1111 ...\n",
      "Processing shard 1112 ...\n",
      "Processing shard 1113 ...\n",
      "Processing shard 1114 ...\n",
      "Processing shard 1115 ...\n",
      "Processing shard 1116 ...\n",
      "Processing shard 1117 ...\n",
      "\n",
      "Processing shard 1118 ...Processing shard 1119 ...\n",
      "Processing shard 1120 ...\n",
      "Processing shard 1121 ...\n",
      "Processing shard 1122 ...\n",
      "Processing shard 1123 ...\n",
      "Processing shard 1124 ...\n",
      "Processing shard 1125 ...\n",
      "Processing shard 1126 ...\n",
      "Processing shard 1127 ...\n",
      "Processing shard 1128 ...\n",
      "Processing shard 1129 ...\n",
      "Processing shard 1130 ...\n",
      "Processing shard 1131 ...\n",
      "Processing shard 1132 ...\n",
      "Processing shard 1133 ...\n",
      "Processing shard 1134 ...\n",
      "Processing shard 1135 ...\n",
      "Processing shard 1136 ...\n",
      "Processing shard 1137 ...\n",
      "Processing shard 1138 ...\n",
      "Processing shard 1139 ...\n",
      "Processing shard 1140 ...\n",
      "Processing shard 1141 ...\n",
      "Processing shard 1142 ...\n",
      "Processing shard 1143 ...\n",
      "Processing shard 1144 ...\n",
      "Processing shard 1145 ...\n",
      "Processing shard 1146 ...\n",
      "Processing shard 1147 ...\n",
      "Processing shard 1148 ...\n",
      "Processing shard 1149 ...\n",
      "Processing shard 1150 ...\n",
      "Processing shard 1151 ...\n",
      "Processing shard 1152 ...\n",
      "Processing shard 1153 ...\n",
      "Processing shard 1154 ...\n",
      "Processing shard 1155 ...\n",
      "Processing shard 1156 ...\n",
      "Processing shard 1157 ...\n",
      "Processing shard 1158 ...\n",
      "Processing shard 1159 ...\n",
      "Processing shard 1160 ...\n",
      "Processing shard 1161 ...\n",
      "Processing shard 1162 ...\n",
      "Processing shard 1163 ...\n",
      "Processing shard 1164 ...\n",
      "Processing shard 1165 ...\n",
      "Processing shard 1166 ...\n",
      "Processing shard 1167 ...\n",
      "Processing shard 1168 ...\n",
      "Processing shard 1169 ...\n",
      "Processing shard 1170 ...\n",
      "Processing shard 1171 ...\n",
      "Processing shard 1172 ...\n",
      "Processing shard 1173 ...\n",
      "Processing shard 1174 ...Processing shard 1175 ...\n",
      "\n",
      "Processing shard 1176 ...\n",
      "Processing shard 1177 ...\n",
      "Processing shard 1178 ...\n",
      "Processing shard 1179 ...\n",
      "Processing shard 1180 ...\n",
      "Processing shard 1181 ...\n",
      "Processing shard 1182 ...\n",
      "Processing shard 1183 ...\n",
      "Processing shard 1184 ...\n",
      "Processing shard 1185 ...\n",
      "Processing shard 1186 ...\n",
      "Processing shard 1187 ...\n",
      "Processing shard 1188 ...\n",
      "Processing shard 1189 ...\n",
      "Processing shard 1190 ...\n",
      "Processing shard 1191 ...\n",
      "Processing shard 1192 ...\n",
      "Processing shard 1193 ...\n",
      "Processing shard 1194 ...\n",
      "Processing shard 1195 ...\n",
      "Processing shard 1196 ...\n",
      "Processing shard 1197 ...\n",
      "Processing shard 1198 ...\n",
      "Processing shard 1199 ...\n",
      "Processing shard 1200 ...\n",
      "Processing shard 1201 ...\n",
      "Processing shard 1202 ...\n",
      "Processing shard 1203 ...\n",
      "Processing shard 1204 ...\n",
      "Processing shard 1205 ...\n",
      "Processing shard 1206 ...\n",
      "Processing shard 1207 ...\n",
      "Processing shard 1208 ...\n",
      "Processing shard 1209 ...\n",
      "Processing shard 1210 ...\n",
      "Processing shard 1211 ...\n",
      "Processing shard 1212 ...\n",
      "Processing shard 1213 ...\n",
      "Processing shard 1214 ...\n",
      "Processing shard 1215 ...\n",
      "Processing shard 1216 ...\n",
      "Processing shard 1217 ...\n",
      "Processing shard 1218 ...\n",
      "Processing shard 1219 ...\n",
      "Processing shard 1220 ...\n",
      "Processing shard 1221 ...\n",
      "Processing shard 1222 ...\n",
      "Processing shard 1223 ...\n",
      "Processing shard 1224 ...\n",
      "Processing shard 1225 ...\n",
      "Processing shard 1226 ...\n",
      "Processing shard 1227 ...\n",
      "Processing shard 1228 ...\n",
      "Processing shard 1229 ...\n",
      "Processing shard 1230 ...\n",
      "Processing shard 1231 ...\n",
      "Processing shard 1232 ...\n",
      "Processing shard 1233 ...\n",
      "Processing shard 1234 ...\n",
      "Processing shard 1235 ...\n",
      "Processing shard 1236 ...\n",
      "Processing shard 1237 ...\n",
      "Processing shard 1238 ...\n",
      "Processing shard 1239 ...\n",
      "Processing shard 1240 ...\n",
      "Processing shard 1241 ...\n",
      "Processing shard 1242 ...\n",
      "Processing shard 1243 ...\n",
      "Processing shard 1244 ...\n",
      "Processing shard 1245 ...\n",
      "Processing shard 1246 ...\n",
      "Processing shard 1247 ...\n",
      "Processing shard 1248 ...Processing shard 1249 ...\n",
      "\n",
      "Processing shard 1250 ...\n",
      "Processing shard 1251 ...\n",
      "Processing shard 1252 ...\n",
      "Processing shard 1253 ...\n",
      "Processing shard 1254 ...\n",
      "Processing shard 1255 ...\n",
      "Processing shard 1256 ...\n",
      "Processing shard 1257 ...\n",
      "Processing shard 1258 ...\n",
      "Processing shard 1259 ...\n",
      "Processing shard 1260 ...\n",
      "Processing shard 1261 ...\n",
      "Processing shard 1262 ...\n",
      "Processing shard 1263 ...\n",
      "Processing shard 1264 ...\n",
      "Processing shard 1265 ...\n",
      "Processing shard 1266 ...\n",
      "Processing shard 1267 ...\n",
      "Processing shard 1268 ...\n",
      "Processing shard 1269 ...\n",
      "Processing shard 1270 ...\n",
      "Processing shard 1271 ...\n",
      "Processing shard 1272 ...\n",
      "Processing shard 1273 ...\n",
      "Processing shard 1274 ...\n",
      "Processing shard 1275 ...\n",
      "Processing shard 1276 ...\n",
      "Processing shard 1277 ...\n",
      "Processing shard 1278 ...\n",
      "Processing shard 1279 ...\n",
      "Processing shard 1280 ...\n",
      "Processing shard 1281 ...\n",
      "Processing shard 1282 ...\n",
      "Processing shard 1283 ...\n",
      "Processing shard 1284 ...\n",
      "Processing shard 1285 ...\n",
      "Processing shard 1286 ...\n",
      "Processing shard 1287 ...\n",
      "Processing shard 1288 ...\n",
      "Processing shard 1289 ...\n",
      "Processing shard 1290 ...\n",
      "Processing shard 1291 ...\n",
      "Processing shard 1292 ...\n",
      "Processing shard 1293 ...\n",
      "Processing shard 1294 ...\n",
      "Processing shard 1295 ...\n",
      "Processing shard 1296 ...\n",
      "Processing shard 1297 ...\n",
      "Processing shard 1298 ...\n",
      "Processing shard 1299 ...\n",
      "Processing shard 1300 ...\n",
      "Processing shard 1301 ...\n",
      "Processing shard 1302 ...\n",
      "Processing shard 1303 ...\n",
      "Processing shard 1304 ...\n",
      "Processing shard 1305 ...\n",
      "Processing shard 1306 ...\n",
      "Processing shard 1307 ...\n",
      "Processing shard 1308 ...\n",
      "Processing shard 1309 ...\n",
      "Processing shard 1310 ...\n",
      "Processing shard 1311 ...\n",
      "Processing shard 1312 ...\n",
      "Processing shard 1313 ...\n",
      "Processing shard 1314 ...\n",
      "Processing shard 1315 ...\n",
      "Processing shard 1316 ...\n",
      "Processing shard 1317 ...\n",
      "Processing shard 1318 ...\n",
      "Processing shard 1319 ...\n",
      "Processing shard 1320 ...\n",
      "Processing shard 1321 ...\n",
      "Processing shard 1322 ...\n",
      "Processing shard 1323 ...\n",
      "Processing shard 1324 ...\n",
      "Processing shard 1325 ...\n",
      "Processing shard 1326 ...\n",
      "Processing shard 1327 ...\n",
      "Processing shard 1328 ...\n",
      "Processing shard 1329 ...\n",
      "Processing shard 1330 ...\n",
      "Processing shard 1331 ...\n",
      "Processing shard 1332 ...\n",
      "Processing shard 1333 ...\n",
      "Processing shard 1334 ...\n",
      "Processing shard 1335 ...\n",
      "Processing shard 1336 ...\n",
      "Processing shard 1337 ...\n",
      "Processing shard 1338 ...\n",
      "Processing shard 1339 ...\n",
      "Processing shard 1340 ...\n",
      "Processing shard 1341 ...\n",
      "Processing shard 1342 ...\n",
      "Processing shard 1343 ...\n",
      "Processing shard 1344 ...\n",
      "Processing shard 1345 ...\n",
      "Processing shard 1346 ...\n",
      "Processing shard 1347 ...\n",
      "Processing shard 1348 ...\n",
      "Processing shard 1349 ...\n",
      "Processing shard 1350 ...\n",
      "Processing shard 1351 ...\n",
      "Processing shard 1352 ...\n",
      "Processing shard 1353 ...\n",
      "Processing shard 1354 ...\n",
      "Processing shard 1355 ...\n",
      "Processing shard 1356 ...\n",
      "Processing shard 1357 ...\n",
      "Processing shard 1358 ...\n",
      "Processing shard 1359 ...\n",
      "Processing shard 1360 ...\n",
      "Processing shard 1361 ...\n",
      "Processing shard 1362 ...\n",
      "Processing shard 1363 ...Processing shard 1364 ...\n",
      "\n",
      "Processing shard 1365 ...\n",
      "Processing shard 1366 ...\n",
      "Processing shard 1367 ...\n",
      "Processing shard 1368 ...\n",
      "Processing shard 1369 ...\n",
      "Processing shard 1370 ...\n",
      "Processing shard 1371 ...\n",
      "Processing shard 1372 ...\n",
      "Processing shard 1373 ...\n",
      "Processing shard 1374 ...\n",
      "Processing shard 1375 ...\n",
      "Processing shard 1376 ...\n",
      "Processing shard 1377 ...\n",
      "Processing shard 1378 ...\n",
      "Processing shard 1379 ...\n",
      "Processing shard 1380 ...\n",
      "Processing shard 1381 ...\n",
      "Processing shard 1382 ...\n",
      "Processing shard 1383 ...\n",
      "Processing shard 1384 ...\n",
      "Processing shard 1385 ...\n",
      "Processing shard 1386 ...\n",
      "Processing shard 1387 ...\n",
      "Processing shard 1388 ...\n",
      "Processing shard 1389 ...\n",
      "Processing shard 1390 ...\n",
      "Processing shard 1391 ...\n",
      "Processing shard 1392 ...\n",
      "Processing shard 1393 ...\n",
      "Processing shard 1394 ...\n",
      "Processing shard 1395 ...\n",
      "Processing shard 1396 ...\n",
      "Processing shard 1397 ...\n",
      "Processing shard 1398 ...\n",
      "Processing shard 1399 ...\n",
      "Processing shard 1400 ...\n",
      "Processing shard 1401 ...\n",
      "Processing shard 1402 ...\n",
      "Processing shard 1403 ...\n",
      "Processing shard 1404 ...\n",
      "Processing shard 1405 ...\n",
      "Processing shard 1406 ...\n",
      "Processing shard 1407 ...\n",
      "Processing shard 1408 ...\n",
      "Processing shard 1409 ...\n",
      "Processing shard 1410 ...\n",
      "Processing shard 1411 ...\n",
      "Processing shard 1412 ...\n",
      "Processing shard 1413 ...\n",
      "Processing shard 1414 ...\n",
      "Processing shard 1415 ...\n",
      "Processing shard 1416 ...\n",
      "Processing shard 1417 ...\n",
      "Processing shard 1418 ...\n",
      "Processing shard 1419 ...\n",
      "Processing shard 1420 ...\n",
      "Processing shard 1421 ...\n",
      "Processing shard 1422 ...\n",
      "Processing shard 1423 ...\n",
      "Processing shard 1424 ...\n",
      "Processing shard 1425 ...\n",
      "Processing shard 1426 ...\n",
      "Processing shard 1427 ...\n",
      "Processing shard 1428 ...\n",
      "Processing shard 1429 ...\n",
      "Processing shard 1430 ...\n",
      "Processing shard 1431 ...\n",
      "Processing shard 1432 ...\n",
      "Processing shard 1433 ...\n",
      "Processing shard 1434 ...\n",
      "Processing shard 1435 ...Processing shard 1436 ...\n",
      "\n",
      "Processing shard 1437 ...\n",
      "Processing shard 1438 ...\n",
      "Processing shard 1439 ...\n",
      "Processing shard 1440 ...\n",
      "Processing shard 1441 ...Processing shard 1442 ...\n",
      "\n",
      "Processing shard 1443 ...\n",
      "Processing shard 1444 ...\n",
      "Processing shard 1445 ...\n",
      "Processing shard 1446 ...\n",
      "Processing shard 1447 ...\n",
      "Processing shard 1448 ...\n",
      "Processing shard 1449 ...\n",
      "Processing shard 1450 ...\n",
      "Processing shard 1451 ...\n",
      "Processing shard 1452 ...\n",
      "Processing shard 1453 ...\n",
      "Processing shard 1454 ...\n",
      "Processing shard 1455 ...\n",
      "Processing shard 1456 ...\n",
      "Processing shard 1457 ...\n",
      "Processing shard 1458 ...\n",
      "Processing shard 1459 ...\n",
      "Processing shard 1460 ...\n",
      "Processing shard 1461 ...\n",
      "Processing shard 1462 ...\n",
      "Processing shard 1463 ...\n",
      "Processing shard 1464 ...\n",
      "Processing shard 1465 ...\n",
      "Processing shard 1466 ...\n",
      "Processing shard 1467 ...\n",
      "Processing shard 1468 ...\n",
      "Processing shard 1469 ...\n",
      "Processing shard 1470 ...\n",
      "Processing shard 1471 ...\n",
      "Processing shard 1472 ...\n",
      "Processing shard 1473 ...\n",
      "Processing shard 1474 ...\n",
      "Processing shard 1475 ...\n",
      "Processing shard 1476 ...\n",
      "Processing shard 1477 ...\n",
      "Processing shard 1478 ...\n",
      "Processing shard 1479 ...\n",
      "Processing shard 1480 ...\n",
      "Processing shard 1481 ...\n",
      "Processing shard 1482 ...\n",
      "Processing shard 1483 ...\n",
      "Processing shard 1484 ...\n",
      "Processing shard 1485 ...\n",
      "Processing shard 1486 ...\n",
      "Processing shard 1487 ...\n",
      "Processing shard 1488 ...\n",
      "Processing shard 1489 ...\n",
      "Processing shard 1490 ...\n",
      "Processing shard 1491 ...\n",
      "Processing shard 1492 ...\n",
      "Processing shard 1493 ...\n",
      "Processing shard 1494 ...\n",
      "Processing shard 1495 ...\n",
      "Processing shard 1496 ...\n",
      "Processing shard 1497 ...\n",
      "Processing shard 1498 ...\n",
      "Processing shard 1499 ...\n",
      "Processing shard 1500 ...\n",
      "Processing shard 1501 ...\n",
      "Processing shard 1502 ...\n",
      "Processing shard 1503 ...\n",
      "Processing shard 1504 ...\n",
      "Processing shard 1505 ...\n",
      "Processing shard 1506 ...\n",
      "Processing shard 1507 ...\n",
      "Processing shard 1508 ...\n",
      "Processing shard 1509 ...\n",
      "Processing shard 1510 ...\n",
      "Processing shard 1511 ...\n",
      "Processing shard 1512 ...\n",
      "Processing shard 1513 ...\n",
      "Processing shard 1514 ...\n",
      "Processing shard 1515 ...\n",
      "Processing shard 1516 ...\n",
      "Processing shard 1517 ...\n",
      "Processing shard 1518 ...\n",
      "Processing shard 1519 ...\n",
      "Processing shard 1520 ...\n",
      "Processing shard 1521 ...\n",
      "Processing shard 1522 ...\n",
      "Processing shard 1523 ...\n",
      "Processing shard 1524 ...\n",
      "Processing shard 1525 ...\n",
      "Processing shard 1526 ...\n",
      "Processing shard 1527 ...\n",
      "Processing shard 1528 ...\n",
      "Processing shard 1529 ...\n",
      "Processing shard 1530 ...\n",
      "Processing shard 1531 ...\n",
      "Processing shard 1532 ...\n",
      "Processing shard 1533 ...\n",
      "Processing shard 1534 ...\n",
      "Processing shard 1535 ...\n",
      "Processing shard 1536 ...\n",
      "Processing shard 1537 ...\n",
      "Processing shard 1538 ...\n",
      "Processing shard 1539 ...\n",
      "Processing shard 1540 ...\n",
      "Processing shard 1541 ...\n",
      "Processing shard 1542 ...\n",
      "Processing shard 1543 ...\n",
      "Processing shard 1544 ...\n",
      "Processing shard 1545 ...\n",
      "Processing shard 1546 ...\n",
      "Processing shard 1547 ...\n",
      "Processing shard 1548 ...\n",
      "Processing shard 1549 ...\n",
      "Processing shard 1550 ...\n",
      "Processing shard 1551 ...\n",
      "Processing shard 1552 ...\n",
      "Processing shard 1553 ...\n",
      "Processing shard 1554 ...\n",
      "Processing shard 1555 ...\n",
      "Processing shard 1556 ...\n",
      "Processing shard 1557 ...\n",
      "Processing shard 1558 ...\n",
      "Processing shard 1559 ...\n",
      "Processing shard 1560 ...\n",
      "Processing shard 1561 ...\n",
      "Processing shard 1562 ...\n",
      "Processing shard 1563 ...\n",
      "Processing shard 1564 ...\n",
      "Processing shard 1565 ...\n",
      "Processing shard 1566 ...\n",
      "Processing shard 1567 ...\n",
      "Processing shard 1568 ...\n",
      "Processing shard 1569 ...\n",
      "Processing shard 1570 ...\n",
      "Processing shard 1571 ...\n",
      "Processing shard 1572 ...\n",
      "Processing shard 1573 ...\n",
      "Processing shard 1574 ...\n",
      "Processing shard 1575 ...\n",
      "Processing shard 1576 ...\n",
      "Processing shard 1577 ...\n",
      "Processing shard 1578 ...\n",
      "Processing shard 1579 ...\n",
      "Processing shard 1580 ...\n",
      "Processing shard 1581 ...\n",
      "Processing shard 1582 ...\n",
      "Processing shard 1583 ...\n",
      "Processing shard 1584 ...\n",
      "Processing shard 1585 ...\n",
      "Processing shard 1586 ...\n",
      "Processing shard 1587 ...\n",
      "Processing shard 1588 ...\n",
      "Processing shard 1589 ...\n",
      "Processing shard 1590 ...\n",
      "Processing shard 1591 ...\n",
      "Processing shard 1592 ...\n",
      "Processing shard 1593 ...\n",
      "Processing shard 1594 ...\n",
      "Processing shard 1595 ...\n",
      "Processing shard 1596 ...\n",
      "Processing shard 1597 ...\n",
      "Processing shard 1598 ...\n",
      "Processing shard 1599 ...\n",
      "Processing shard 1600 ...\n",
      "Processing shard 1601 ...Processing shard 1602 ...\n",
      "\n",
      "Processing shard 1603 ...\n",
      "Processing shard 1604 ...\n",
      "Processing shard 1605 ...\n"
     ]
    }
   ],
   "source": [
    "max_workers = num_cores # change this to the number of CPU cores your machine has \n",
    "\n",
    "\n",
    "with ProcessPool(max_workers=max_workers) as pool:\n",
    "    pool.map(process_shard, range(num_shards), timeout=60)"
   ]
  },
  {
   "cell_type": "markdown",
   "id": "b78caee6",
   "metadata": {},
   "source": [
    "### Collect all shards to form the processed dataset"
   ]
  },
  {
   "cell_type": "code",
   "execution_count": 10,
   "id": "0568da38",
   "metadata": {},
   "outputs": [
    {
     "name": "stdout",
     "output_type": "stream",
     "text": [
      "shard_135 loaded\n",
      "shard_635 loaded\n",
      "shard_638 loaded\n",
      "shard_637 loaded\n",
      "shard_636 loaded\n"
     ]
    }
   ],
   "source": [
    "from datasets import load_from_disk, concatenate_datasets\n",
    "\n",
    "output = [dI for dI in os.listdir(root_directory) if os.path.isdir(os.path.join(root_directory,dI))]\n",
    "datasets = []\n",
    "for o in output:\n",
    "    directory = root_directory + \"/\" + o\n",
    "    try:\n",
    "        shard = load_from_disk(directory)\n",
    "        datasets.append(shard)\n",
    "        print(\"%s loaded\" % o)\n",
    "    except:\n",
    "        continue"
   ]
  },
  {
   "cell_type": "code",
   "execution_count": 13,
   "id": "c1547f2c",
   "metadata": {},
   "outputs": [
    {
     "name": "stderr",
     "output_type": "stream",
     "text": [
      "Saving the dataset (0/1 shards):   0%|          | 0/650 [00:00<?, ? examples/s]"
     ]
    },
    {
     "name": "stderr",
     "output_type": "stream",
     "text": [
      "Saving the dataset (1/1 shards): 100%|██████████| 650/650 [00:00<00:00, 29162.94 examples/s]"
     ]
    },
    {
     "name": "stdout",
     "output_type": "stream",
     "text": [
      "Dataset saved to wikipedia_20220301.en.processed\n"
     ]
    },
    {
     "name": "stderr",
     "output_type": "stream",
     "text": [
      "\n"
     ]
    }
   ],
   "source": [
    "dataset = concatenate_datasets(datasets)\n",
    "dataset.save_to_disk(config['data_folder'])\n",
    "print('Dataset saved to %s' % config['data_folder'])"
   ]
  },
  {
   "cell_type": "code",
   "execution_count": 14,
   "id": "ce886d15",
   "metadata": {},
   "outputs": [
    {
     "data": {
      "text/plain": [
       "Dataset({\n",
       "    features: ['id', 'url', 'title', 'input_ids', 'phonemes'],\n",
       "    num_rows: 650\n",
       "})"
      ]
     },
     "execution_count": 14,
     "metadata": {},
     "output_type": "execute_result"
    }
   ],
   "source": [
    "# check the dataset size\n",
    "dataset"
   ]
  },
  {
   "cell_type": "code",
   "execution_count": 55,
   "id": "7aa30ceb",
   "metadata": {},
   "outputs": [
    {
     "data": {
      "text/plain": [
       "('35266', 'https://en.wikipedia.org/wiki/0s%20BC', '0s BC')"
      ]
     },
     "execution_count": 55,
     "metadata": {},
     "output_type": "execute_result"
    }
   ],
   "source": [
    "dataset[0]['id'], dataset[0]['url'], dataset[0]['title']"
   ]
  },
  {
   "cell_type": "code",
   "execution_count": 56,
   "id": "bfc44f03",
   "metadata": {},
   "outputs": [
    {
     "name": "stdout",
     "output_type": "stream",
     "text": [
      "582\n",
      "[13, 6158, 2024, 28, 1, 354, 83, 769, 2024, 5]\n",
      "['The', 'zero', 'BC', 'were', 'the', 'period', 'between', 'nine', 'BC', 'and']\n"
     ]
    }
   ],
   "source": [
    "print(len(dataset[0]['input_ids']))\n",
    "print(dataset[0]['input_ids'][:10])\n",
    "print([tokenizer.decode([t]) for t in dataset[0]['input_ids'][:10]])"
   ]
  },
  {
   "cell_type": "code",
   "execution_count": 57,
   "id": "7a665d82",
   "metadata": {},
   "outputs": [
    {
     "name": "stdout",
     "output_type": "stream",
     "text": [
      "582\n",
      "['ðə', 'zˈiəɹoʊ', 'bˌiːsˈiː', 'wɜː', 'ðə', 'pˈiəɹɪəd', 'bᵻtwˈiːn', 'nˈaɪn', 'bˌiːsˈiː', 'ænd']\n"
     ]
    }
   ],
   "source": [
    "print(len(dataset[0]['phonemes']))\n",
    "print(dataset[0]['phonemes'][:10])"
   ]
  },
  {
   "cell_type": "markdown",
   "id": "cdf6f6f6",
   "metadata": {},
   "source": [
    "### Remove unneccessary tokens from the pre-trained tokenizer\n",
    "The pre-trained tokenizer contains a lot of tokens that are not used in our dataset, so we need to remove these tokens. We also want to predict the word in lower cases because cases do not matter that much for TTS. Pruning the tokenizer is much faster than training a new tokenizer from scratch. "
   ]
  },
  {
   "cell_type": "code",
   "execution_count": 15,
   "id": "28cec407",
   "metadata": {},
   "outputs": [],
   "source": [
    "from simple_loader import FilePathDataset, build_dataloader\n",
    "\n",
    "file_data = FilePathDataset(dataset)\n",
    "loader = build_dataloader(file_data, num_workers=32, batch_size=128)"
   ]
  },
  {
   "cell_type": "code",
   "execution_count": 17,
   "id": "0b7504eb",
   "metadata": {},
   "outputs": [
    {
     "data": {
      "text/plain": [
       "3039"
      ]
     },
     "execution_count": 17,
     "metadata": {},
     "output_type": "execute_result"
    }
   ],
   "source": [
    "special_token = config['dataset_params']['word_separator']\n",
    "special_token"
   ]
  },
  {
   "cell_type": "code",
   "execution_count": 18,
   "id": "0fcb44a2",
   "metadata": {},
   "outputs": [
    {
     "name": "stderr",
     "output_type": "stream",
     "text": [
      "100%|██████████| 5/5 [00:01<00:00,  3.55it/s]\n"
     ]
    }
   ],
   "source": [
    "# get all unique tokens in the entire dataset\n",
    "\n",
    "from tqdm import tqdm\n",
    "\n",
    "unique_index = [special_token]\n",
    "for _, batch in enumerate(tqdm(loader)):\n",
    "    unique_index.extend(batch)\n",
    "    unique_index = list(set(unique_index))"
   ]
  },
  {
   "cell_type": "code",
   "execution_count": 20,
   "id": "1445662d",
   "metadata": {},
   "outputs": [
    {
     "name": "stderr",
     "output_type": "stream",
     "text": [
      "100%|██████████| 15024/15024 [00:00<00:00, 17429.79it/s]\n"
     ]
    }
   ],
   "source": [
    "# get each token's lower case\n",
    "\n",
    "lower_tokens = []\n",
    "for t in tqdm(unique_index):\n",
    "    word = tokenizer.decode([t])\n",
    "    if word.lower() != word:\n",
    "        t = tokenizer.encode([word.lower()])[0]\n",
    "        lower_tokens.append(t)\n",
    "    else:\n",
    "        lower_tokens.append(t)"
   ]
  },
  {
   "cell_type": "code",
   "execution_count": 21,
   "id": "fa2dea92",
   "metadata": {},
   "outputs": [],
   "source": [
    "lower_tokens = (list(set(lower_tokens)))"
   ]
  },
  {
   "cell_type": "code",
   "execution_count": 22,
   "id": "2a76cda1",
   "metadata": {},
   "outputs": [
    {
     "name": "stderr",
     "output_type": "stream",
     "text": [
      "100%|██████████| 15024/15024 [00:04<00:00, 3639.40it/s]\n"
     ]
    }
   ],
   "source": [
    "# redo the mapping for lower number of tokens\n",
    "\n",
    "token_maps = {}\n",
    "for t in tqdm(unique_index):\n",
    "    word = tokenizer.decode([t])\n",
    "    word = word.lower()\n",
    "    new_t = tokenizer.encode([word.lower()])[0]\n",
    "    token_maps[t] = {'word': word, 'token': lower_tokens.index(new_t)}"
   ]
  },
  {
   "cell_type": "code",
   "execution_count": 24,
   "id": "2f155b10",
   "metadata": {},
   "outputs": [
    {
     "data": {
      "text/plain": [
       "{262144: {'word': 'pomroy', 'token': 23},\n",
       " 1: {'word': 'the', 'token': 0},\n",
       " 2: {'word': ',', 'token': 1},\n",
       " 3: {'word': '.', 'token': 2},\n",
       " 4: {'word': 'of', 'token': 3},\n",
       " 5: {'word': 'and', 'token': 4},\n",
       " 6: {'word': 'to', 'token': 5},\n",
       " 7: {'word': 'in', 'token': 6},\n",
       " 8: {'word': 'a', 'token': 7},\n",
       " 9: {'word': '=', 'token': 8},\n",
       " 10: {'word': '\"', 'token': 9},\n",
       " 11: {'word': 'was', 'token': 10},\n",
       " 32774: {'word': 'amidst', 'token': 6882},\n",
       " 13: {'word': 'the', 'token': 0},\n",
       " 14: {'word': \"'s\", 'token': 13},\n",
       " 15: {'word': 'on', 'token': 14},\n",
       " 16: {'word': 'that', 'token': 15},\n",
       " 17: {'word': 'for', 'token': 16},\n",
       " 18: {'word': 'as', 'token': 17},\n",
       " 19: {'word': 'with', 'token': 18},\n",
       " 20: {'word': 'by', 'token': 19},\n",
       " 21: {'word': ')', 'token': 20},\n",
       " 22: {'word': '(', 'token': 21},\n",
       " 23: {'word': 'is', 'token': 22},\n",
       " 24: {'word': '<unk>', 'token': 23},\n",
       " 25: {'word': 'his', 'token': 24},\n",
       " 26: {'word': 'from', 'token': 25},\n",
       " 27: {'word': 'at', 'token': 26},\n",
       " 28: {'word': 'were', 'token': 27},\n",
       " 29: {'word': 'it', 'token': 28},\n",
       " 30: {'word': 'he', 'token': 29},\n",
       " 31: {'word': 'an', 'token': 30},\n",
       " 32: {'word': 'had', 'token': 31},\n",
       " 33: {'word': 'in', 'token': 6},\n",
       " 34: {'word': 'which', 'token': 33},\n",
       " 35: {'word': 'be', 'token': 34},\n",
       " 36: {'word': 'but', 'token': 35},\n",
       " 37: {'word': 'are', 'token': 36},\n",
       " 38: {'word': 'not', 'token': 37},\n",
       " 39: {'word': ';', 'token': 38},\n",
       " 40: {'word': 'first', 'token': 39},\n",
       " 41: {'word': 'their', 'token': 40},\n",
       " 32804: {'word': 'pharmacy', 'token': 41},\n",
       " 43: {'word': ':', 'token': 42},\n",
       " 44: {'word': 'also', 'token': 43},\n",
       " 45: {'word': 'her', 'token': 44},\n",
       " 46: {'word': 'its', 'token': 45},\n",
       " 47: {'word': 'or', 'token': 46},\n",
       " 48: {'word': 'have', 'token': 47},\n",
       " 49: {'word': 'one', 'token': 48},\n",
       " 32811: {'word': 'concertos', 'token': 49},\n",
       " 51: {'word': 'two', 'token': 50},\n",
       " 52: {'word': 'who', 'token': 51},\n",
       " 53: {'word': 'been', 'token': 52},\n",
       " 54: {'word': 'has', 'token': 53},\n",
       " 32820: {'word': 'buttocks', 'token': 54},\n",
       " 56: {'word': 'this', 'token': 55},\n",
       " 57: {'word': 'he', 'token': 29},\n",
       " 58: {'word': \"'\", 'token': 56},\n",
       " 59: {'word': 'they', 'token': 57},\n",
       " 60: {'word': 'after', 'token': 58},\n",
       " 32825: {'word': 'lackawanna', 'token': 23},\n",
       " 62: {'word': 'time', 'token': 60},\n",
       " 63: {'word': 'into', 'token': 61},\n",
       " 64: {'word': 'it', 'token': 28},\n",
       " 61: {'word': 'would', 'token': 59},\n",
       " 66: {'word': 'other', 'token': 62},\n",
       " 67: {'word': 'more', 'token': 63},\n",
       " 68: {'word': 'i', 'token': 3928},\n",
       " 69: {'word': 'when', 'token': 64},\n",
       " 65606: {'word': 'lowther', 'token': 23},\n",
       " 71: {'word': 'him', 'token': 66},\n",
       " 72: {'word': 'over', 'token': 67},\n",
       " 73: {'word': 'all', 'token': 68},\n",
       " 74: {'word': 'during', 'token': 69},\n",
       " 75: {'word': 'a', 'token': 7},\n",
       " 76: {'word': 'only', 'token': 71},\n",
       " 32844: {'word': 'translation', 'token': 3345},\n",
       " 78: {'word': 'up', 'token': 72},\n",
       " 79: {'word': 'out', 'token': 73},\n",
       " 80: {'word': 'about', 'token': 74},\n",
       " 81: {'word': 'than', 'token': 75},\n",
       " 82: {'word': 'game', 'token': 76},\n",
       " 83: {'word': 'between', 'token': 77},\n",
       " 84: {'word': 'later', 'token': 78},\n",
       " 85: {'word': 'three', 'token': 79},\n",
       " 86: {'word': 'most', 'token': 80},\n",
       " 87: {'word': 'while', 'token': 81},\n",
       " 88: {'word': 'new', 'token': 82},\n",
       " 89: {'word': 'on', 'token': 14},\n",
       " 90: {'word': 'made', 'token': 84},\n",
       " 163930: {'word': 'quirinius', 'token': 23},\n",
       " 91: {'word': 'film', 'token': 85},\n",
       " 32856: {'word': 'aretha', 'token': 23},\n",
       " 94: {'word': 'such', 'token': 87},\n",
       " 95: {'word': 'season', 'token': 88},\n",
       " 96: {'word': 'where', 'token': 89},\n",
       " 97: {'word': 'before', 'token': 90},\n",
       " 98: {'word': 'years', 'token': 91},\n",
       " 99: {'word': 'year', 'token': 92},\n",
       " 100: {'word': 'this', 'token': 55},\n",
       " 101: {'word': '/', 'token': 94},\n",
       " 102: {'word': 'new', 'token': 82},\n",
       " 103: {'word': 'some', 'token': 96},\n",
       " 104: {'word': 'used', 'token': 97},\n",
       " 105: {'word': 'them', 'token': 98},\n",
       " 107: {'word': 'being', 'token': 99},\n",
       " 108: {'word': 'then', 'token': 100},\n",
       " 109: {'word': 'second', 'token': 101},\n",
       " 110: {'word': 'through', 'token': 102},\n",
       " 111: {'word': 'against', 'token': 103},\n",
       " 32877: {'word': 'surnames', 'token': 104},\n",
       " 113: {'word': 'became', 'token': 105},\n",
       " 114: {'word': 'song', 'token': 106},\n",
       " 115: {'word': 'including', 'token': 107},\n",
       " 112: {'word': 'album', 'token': 108},\n",
       " 118: {'word': 'number', 'token': 109},\n",
       " 119: {'word': 'united', 'token': 4826},\n",
       " 120: {'word': 'there', 'token': 110},\n",
       " 121: {'word': 'well', 'token': 111},\n",
       " 122: {'word': 'after', 'token': 58},\n",
       " 123: {'word': 'both', 'token': 112},\n",
       " 124: {'word': 'part', 'token': 113},\n",
       " 125: {'word': 'series', 'token': 114},\n",
       " 126: {'word': 'can', 'token': 115},\n",
       " 127: {'word': 'no', 'token': 116},\n",
       " 128: {'word': 'four', 'token': 117},\n",
       " 129: {'word': 'team', 'token': 118},\n",
       " 130: {'word': 'episode', 'token': 119},\n",
       " 131: {'word': 'said', 'token': 120},\n",
       " 132: {'word': 'many', 'token': 121},\n",
       " 133: {'word': 'under', 'token': 122},\n",
       " 134: {'word': 'several', 'token': 123},\n",
       " 135: {'word': 'american', 'token': 6359},\n",
       " 136: {'word': 'known', 'token': 124},\n",
       " 137: {'word': 'could', 'token': 125},\n",
       " 138: {'word': 'so', 'token': 126},\n",
       " 139: {'word': 'did', 'token': 127},\n",
       " 140: {'word': 'began', 'token': 128},\n",
       " 141: {'word': 'work', 'token': 129},\n",
       " 142: {'word': 'early', 'token': 130},\n",
       " 143: {'word': 'released', 'token': 131},\n",
       " 144: {'word': 'until', 'token': 132},\n",
       " 145: {'word': 'called', 'token': 133},\n",
       " 65676: {'word': 'qutb', 'token': 23},\n",
       " 147: {'word': 'as', 'token': 17},\n",
       " 32914: {'word': 'enforcer', 'token': 134},\n",
       " 149: {'word': 'day', 'token': 136},\n",
       " 150: {'word': 'british', 'token': 23},\n",
       " 151: {'word': 'million', 'token': 137},\n",
       " 152: {'word': 'these', 'token': 138},\n",
       " 154: {'word': 'end', 'token': 139},\n",
       " 155: {'word': 'she', 'token': 65},\n",
       " 156: {'word': 'found', 'token': 140},\n",
       " 157: {'word': 'september', 'token': 23},\n",
       " 158: {'word': 'states', 'token': 662},\n",
       " 159: {'word': 'same', 'token': 141},\n",
       " 160: {'word': 'people', 'token': 142},\n",
       " 161: {'word': 'music', 'token': 143},\n",
       " 162: {'word': 'because', 'token': 144},\n",
       " 163: {'word': 'at', 'token': 26},\n",
       " 164: {'word': 'like', 'token': 145},\n",
       " 165: {'word': 'world', 'token': 228},\n",
       " 166: {'word': 'around', 'token': 146},\n",
       " 65701: {'word': 'lieut', 'token': 23},\n",
       " 168: {'word': 'may', 'token': 147},\n",
       " 169: {'word': 'took', 'token': 148},\n",
       " 170: {'word': 'use', 'token': 149},\n",
       " 171: {'word': 'following', 'token': 150},\n",
       " 262316: {'word': 'aguas', 'token': 8278},\n",
       " 173: {'word': 'however', 'token': 252},\n",
       " 174: {'word': 'any', 'token': 151},\n",
       " 175: {'word': 'august', 'token': 6892},\n",
       " 176: {'word': 'received', 'token': 152},\n",
       " 177: {'word': 'back', 'token': 153},\n",
       " 178: {'word': 'long', 'token': 154},\n",
       " 179: {'word': 'october', 'token': 23},\n",
       " 180: {'word': 'along', 'token': 155},\n",
       " 181: {'word': 'john', 'token': 1825},\n",
       " 182: {'word': 'off', 'token': 157},\n",
       " 183: {'word': 'each', 'token': 158},\n",
       " 184: {'word': 'may', 'token': 147},\n",
       " 185: {'word': 'state', 'token': 159},\n",
       " 186: {'word': 'five', 'token': 160},\n",
       " 187: {'word': 'km', 'token': 161},\n",
       " 32956: {'word': 'konstantin', 'token': 23},\n",
       " 188: {'word': 'century', 'token': 162},\n",
       " 190: {'word': 'they', 'token': 57},\n",
       " 191: {'word': ']', 'token': 165},\n",
       " 192: {'word': '[', 'token': 166},\n",
       " 193: {'word': 'war', 'token': 190},\n",
       " 189: {'word': 'area', 'token': 163},\n",
       " 195: {'word': 'june', 'token': 23},\n",
       " 196: {'word': 'life', 'token': 167},\n",
       " 197: {'word': 'city', 'token': 168},\n",
       " 198: {'word': 'high', 'token': 169},\n",
       " 199: {'word': '%', 'token': 170},\n",
       " 200: {'word': 'july', 'token': 23},\n",
       " 201: {'word': 'november', 'token': 23},\n",
       " 203: {'word': 'show', 'token': 171},\n",
       " 204: {'word': 'since', 'token': 172},\n",
       " 205: {'word': 'single', 'token': 173},\n",
       " 206: {'word': 'april', 'token': 23},\n",
       " 207: {'word': 'us', 'token': 1187},\n",
       " 208: {'word': 'march', 'token': 3587},\n",
       " 209: {'word': 'will', 'token': 176},\n",
       " 210: {'word': 'york', 'token': 23},\n",
       " 211: {'word': 'large', 'token': 177},\n",
       " 212: {'word': 'set', 'token': 178},\n",
       " 213: {'word': 'during', 'token': 69},\n",
       " 214: {'word': 'left', 'token': 179},\n",
       " 216: {'word': 'december', 'token': 23},\n",
       " 217: {'word': 'due', 'token': 181},\n",
       " 65754: {'word': 'cirencester', 'token': 23},\n",
       " 32984: {'word': 'nowadays', 'token': 180},\n",
       " 220: {'word': 'much', 'token': 183},\n",
       " 221: {'word': 'another', 'token': 184},\n",
       " 222: {'word': 'if', 'token': 185},\n",
       " 223: {'word': 'down', 'token': 186},\n",
       " 224: {'word': 'january', 'token': 23},\n",
       " 218: {'word': 'played', 'token': 182},\n",
       " 226: {'word': 'based', 'token': 188},\n",
       " 227: {'word': 'what', 'token': 189},\n",
       " 228: {'word': 'war', 'token': 190},\n",
       " 229: {'word': 'place', 'token': 191},\n",
       " 230: {'word': 'wrote', 'token': 192},\n",
       " 65767: {'word': 'quraysh', 'token': 23},\n",
       " 231: {'word': 'third', 'token': 193},\n",
       " 232: {'word': 'group', 'token': 194},\n",
       " 225: {'word': 'included', 'token': 187},\n",
       " 234: {'word': 'system', 'token': 196},\n",
       " 235: {'word': 'final', 'token': 197},\n",
       " 237: {'word': 'name', 'token': 198},\n",
       " 238: {'word': 'north', 'token': 231},\n",
       " 239: {'word': 'government', 'token': 199},\n",
       " 240: {'word': 'won', 'token': 200},\n",
       " 233: {'word': 'character', 'token': 195},\n",
       " 242: {'word': 'line', 'token': 202},\n",
       " 243: {'word': 'own', 'token': 203},\n",
       " 244: {'word': 'described', 'token': 204},\n",
       " 245: {'word': 'family', 'token': 205},\n",
       " 246: {'word': 'home', 'token': 206},\n",
       " 247: {'word': '...', 'token': 207},\n",
       " 248: {'word': 'led', 'token': 208},\n",
       " 33016: {'word': 'vizier', 'token': 209},\n",
       " 250: {'word': 'just', 'token': 210},\n",
       " 251: {'word': 'south', 'token': 262},\n",
       " 249: {'word': 'named', 'token': 211},\n",
       " 253: {'word': 'band', 'token': 213},\n",
       " 254: {'word': 'near', 'token': 214},\n",
       " 255: {'word': 'now', 'token': 215},\n",
       " 256: {'word': 'six', 'token': 216},\n",
       " 257: {'word': 'games', 'token': 217},\n",
       " 258: {'word': 'very', 'token': 218},\n",
       " 259: {'word': 'those', 'token': 219},\n",
       " 260: {'word': 'make', 'token': 220},\n",
       " 196866: {'word': 'pushback', 'token': 221},\n",
       " 262: {'word': 'ship', 'token': 222},\n",
       " 263: {'word': 'm', 'token': 223},\n",
       " 264: {'word': 'february', 'token': 23},\n",
       " 265: {'word': \"'t\", 'token': 225},\n",
       " 266: {'word': 'next', 'token': 226},\n",
       " 267: {'word': 'species', 'token': 227},\n",
       " 268: {'word': 'world', 'token': 228},\n",
       " 269: {'word': 'still', 'token': 229},\n",
       " 270: {'word': 'main', 'token': 230},\n",
       " 271: {'word': 'north', 'token': 231},\n",
       " 272: {'word': 'last', 'token': 232},\n",
       " 273: {'word': 'best', 'token': 233},\n",
       " 274: {'word': 'by', 'token': 19},\n",
       " 65809: {'word': 'rspb', 'token': 23},\n",
       " 276: {'word': 'within', 'token': 235},\n",
       " 277: {'word': 'men', 'token': 236},\n",
       " 278: {'word': 'original', 'token': 237},\n",
       " 279: {'word': 'built', 'token': 238},\n",
       " 280: {'word': 'held', 'token': 239},\n",
       " 281: {'word': 'small', 'token': 240},\n",
       " 282: {'word': 'death', 'token': 241},\n",
       " 33051: {'word': 'macedonians', 'token': 23},\n",
       " 284: {'word': 'although', 'token': 243},\n",
       " 285: {'word': 'major', 'token': 244},\n",
       " 283: {'word': 'release', 'token': 242},\n",
       " 287: {'word': 'national', 'token': 446},\n",
       " 288: {'word': 'video', 'token': 245},\n",
       " 289: {'word': 'his', 'token': 24},\n",
       " 290: {'word': 'french', 'token': 8563},\n",
       " 291: {'word': 'late', 'token': 246},\n",
       " 292: {'word': 'german', 'token': 23},\n",
       " 293: {'word': 'again', 'token': 248},\n",
       " 294: {'word': 'role', 'token': 249},\n",
       " 295: {'word': 'days', 'token': 250},\n",
       " 296: {'word': 'there', 'token': 110},\n",
       " 297: {'word': 'play', 'token': 251},\n",
       " 298: {'word': 'however', 'token': 252},\n",
       " 164138: {'word': 'cedes', 'token': 253},\n",
       " 65827: {'word': 'glossary', 'token': 247},\n",
       " 300: {'word': 'match', 'token': 254},\n",
       " 302: {'word': 'way', 'token': 255},\n",
       " 33065: {'word': 'rape', 'token': 4881},\n",
       " 304: {'word': 'you', 'token': 257},\n",
       " 305: {'word': 'members', 'token': 258},\n",
       " 306: {'word': 'continued', 'token': 259},\n",
       " 307: {'word': 'often', 'token': 260},\n",
       " 33074: {'word': 'shadowed', 'token': 261},\n",
       " 309: {'word': 'south', 'token': 262},\n",
       " 310: {'word': 'side', 'token': 263},\n",
       " 311: {'word': 'even', 'token': 264},\n",
       " 312: {'word': 'came', 'token': 265},\n",
       " 33077: {'word': 'expatriates', 'token': 266},\n",
       " 314: {'word': '&', 'token': 267},\n",
       " 315: {'word': 'england', 'token': 23},\n",
       " 316: {'word': 'top', 'token': 269},\n",
       " 313: {'word': 'do', 'token': 268},\n",
       " 33079: {'word': 'thrill', 'token': 8756},\n",
       " 319: {'word': 'public', 'token': 271},\n",
       " 320: {'word': 'considered', 'token': 272},\n",
       " 321: {'word': 'former', 'token': 273},\n",
       " 325: {'word': 'career', 'token': 274},\n",
       " 326: {'word': 'school', 'token': 275},\n",
       " 327: {'word': 'further', 'token': 276},\n",
       " 328: {'word': 'production', 'token': 277},\n",
       " 329: {'word': 'story', 'token': 278},\n",
       " 330: {'word': 'de', 'token': 279},\n",
       " 331: {'word': 'having', 'token': 280},\n",
       " 332: {'word': 'one', 'token': 48},\n",
       " 333: {'word': 'water', 'token': 281},\n",
       " 334: {'word': 'city', 'token': 168},\n",
       " 335: {'word': 'moved', 'token': 282},\n",
       " 229709: {'word': 'candidus', 'token': 5207},\n",
       " 337: {'word': 'local', 'token': 284},\n",
       " 131409: {'word': 'alcindor', 'token': 23},\n",
       " 339: {'word': 'power', 'token': 286},\n",
       " 340: {'word': 'form', 'token': 287},\n",
       " 341: {'word': 'although', 'token': 243},\n",
       " 338: {'word': 'without', 'token': 285},\n",
       " 343: {'word': 'few', 'token': 289},\n",
       " 342: {'word': 'storm', 'token': 288},\n",
       " 33113: {'word': 'vijaya', 'token': 23},\n",
       " 346: {'word': 'become', 'token': 291},\n",
       " 347: {'word': 'history', 'token': 292},\n",
       " 348: {'word': 'take', 'token': 293},\n",
       " 349: {'word': 'version', 'token': 294},\n",
       " 350: {'word': 'support', 'token': 295},\n",
       " 351: {'word': 'english', 'token': 9169},\n",
       " 352: {'word': 'book', 'token': 297},\n",
       " 353: {'word': 'different', 'token': 298},\n",
       " 354: {'word': 'period', 'token': 299},\n",
       " 355: {'word': 'london', 'token': 23},\n",
       " 356: {'word': 'half', 'token': 300},\n",
       " 357: {'word': 'among', 'token': 301},\n",
       " 358: {'word': 'ii', 'token': 4053},\n",
       " 359: {'word': 'written', 'token': 302},\n",
       " 360: {'word': 'for', 'token': 16},\n",
       " 361: {'word': 'though', 'token': 304},\n",
       " 362: {'word': 'we', 'token': 305},\n",
       " 363: {'word': 'given', 'token': 306},\n",
       " 364: {'word': 'king', 'token': 729},\n",
       " 365: {'word': 'university', 'token': 1402},\n",
       " 131434: {'word': 'sheriffdom', 'token': 307},\n",
       " 367: {'word': 'point', 'token': 309},\n",
       " 368: {'word': 'while', 'token': 81},\n",
       " 369: {'word': 'returned', 'token': 310},\n",
       " 366: {'word': 'gave', 'token': 308},\n",
       " 371: {'word': 'all', 'token': 68},\n",
       " 372: {'word': 'company', 'token': 311},\n",
       " 33140: {'word': 'miletus', 'token': 23},\n",
       " 374: {'word': 'old', 'token': 313},\n",
       " 375: {'word': 'west', 'token': 337},\n",
       " 373: {'word': 'went', 'token': 312},\n",
       " 377: {'word': 'published', 'token': 315},\n",
       " 98681: {'word': 'copyists', 'token': 316},\n",
       " 379: {'word': 'order', 'token': 317},\n",
       " 380: {'word': 'lead', 'token': 318},\n",
       " 381: {'word': 'river', 'token': 801},\n",
       " 378: {'word': 'produced', 'token': 319},\n",
       " 383: {'word': 'lost', 'token': 320},\n",
       " 384: {'word': 'stated', 'token': 321},\n",
       " 385: {'word': 'attack', 'token': 322},\n",
       " 386: {'word': 'east', 'token': 323},\n",
       " 33152: {'word': 'differences', 'token': 2222},\n",
       " 388: {'word': 'include', 'token': 324},\n",
       " 389: {'word': 'recorded', 'token': 325},\n",
       " 390: {'word': 'building', 'token': 326},\n",
       " 391: {'word': 'similar', 'token': 327},\n",
       " 392: {'word': 'town', 'token': 328},\n",
       " 393: {'word': 'forces', 'token': 329},\n",
       " 394: {'word': 'ships', 'token': 330},\n",
       " 395: {'word': 'using', 'token': 331},\n",
       " 396: {'word': 'never', 'token': 332},\n",
       " 397: {'word': 'according', 'token': 656},\n",
       " 398: {'word': 'short', 'token': 333},\n",
       " 399: {'word': 'performance', 'token': 334},\n",
       " 400: {'word': 'country', 'token': 335},\n",
       " 401: {'word': 'making', 'token': 336},\n",
       " 402: {'word': 'west', 'token': 337},\n",
       " 403: {'word': 'these', 'token': 138},\n",
       " 404: {'word': 'per', 'token': 339},\n",
       " 405: {'word': 'service', 'token': 340},\n",
       " 65935: {'word': 'compositions', 'token': 3851},\n",
       " 407: {'word': 'himself', 'token': 342},\n",
       " 406: {'word': 'aircraft', 'token': 341},\n",
       " 409: {'word': 'military', 'token': 343},\n",
       " 411: {'word': 'songs', 'token': 344},\n",
       " 412: {'word': 'total', 'token': 345},\n",
       " 413: {'word': 'times', 'token': 346},\n",
       " 33181: {'word': 'dies', 'token': 3756},\n",
       " 415: {'word': 'state', 'token': 159},\n",
       " 416: {'word': 'father', 'token': 347},\n",
       " 417: {'word': 'general', 'token': 456},\n",
       " 65952: {'word': 'distinctive', 'token': 2974},\n",
       " 419: {'word': 'right', 'token': 349},\n",
       " 33180: {'word': 'maddy', 'token': 23},\n",
       " 421: {'word': 'control', 'token': 351},\n",
       " 422: {'word': 'development', 'token': 352},\n",
       " 423: {'word': 'james', 'token': 23},\n",
       " 424: {'word': 'remained', 'token': 353},\n",
       " 425: {'word': 'ft', 'token': 354},\n",
       " 426: {'word': 'less', 'token': 355},\n",
       " 33192: {'word': 'ji', 'token': 6893},\n",
       " 428: {'word': 'army', 'token': 540},\n",
       " 429: {'word': 'months', 'token': 358},\n",
       " 430: {'word': 'result', 'token': 359},\n",
       " 431: {'word': 'died', 'token': 360},\n",
       " 432: {'word': 'run', 'token': 361},\n",
       " 433: {'word': 'how', 'token': 362},\n",
       " 434: {'word': 'developed', 'token': 363},\n",
       " 435: {'word': 'man', 'token': 364},\n",
       " 436: {'word': 'title', 'token': 365},\n",
       " 33205: {'word': 'item', 'token': 4684},\n",
       " 438: {'word': 'william', 'token': 23},\n",
       " 439: {'word': 'previous', 'token': 368},\n",
       " 440: {'word': 'week', 'token': 369},\n",
       " 33209: {'word': 'jing', 'token': 8279},\n",
       " 441: {'word': 'children', 'token': 370},\n",
       " 443: {'word': 'across', 'token': 371},\n",
       " 442: {'word': 'league', 'token': 672},\n",
       " 445: {'word': 'class', 'token': 373},\n",
       " 446: {'word': 'reported', 'token': 374},\n",
       " 447: {'word': 'force', 'token': 375},\n",
       " 448: {'word': 'felt', 'token': 376},\n",
       " 449: {'word': 'america', 'token': 23},\n",
       " 450: {'word': 'noted', 'token': 378},\n",
       " 444: {'word': 'away', 'token': 372},\n",
       " 452: {'word': 'land', 'token': 380},\n",
       " 453: {'word': 'announced', 'token': 381},\n",
       " 454: {'word': 'reached', 'token': 382},\n",
       " 33218: {'word': 'elevating', 'token': 379},\n",
       " 456: {'word': 'good', 'token': 383},\n",
       " 457: {'word': 'created', 'token': 384},\n",
       " 458: {'word': 'county', 'token': 1286},\n",
       " 459: {'word': 'areas', 'token': 385},\n",
       " 460: {'word': 'house', 'token': 386},\n",
       " 461: {'word': 'fire', 'token': 387},\n",
       " 33226: {'word': 'liechtenstein', 'token': 23},\n",
       " 463: {'word': 'japanese', 'token': 23},\n",
       " 462: {'word': 'television', 'token': 388},\n",
       " 466: {'word': 'sent', 'token': 390},\n",
       " 467: {'word': 'return', 'token': 391},\n",
       " 66003: {'word': 'eleonora', 'token': 23},\n",
       " 469: {'word': 'win', 'token': 392},\n",
       " 470: {'word': 'political', 'token': 393},\n",
       " 471: {'word': 'seen', 'token': 394},\n",
       " 472: {'word': 'followed', 'token': 395},\n",
       " 473: {'word': 's', 'token': 396},\n",
       " 474: {'word': 'too', 'token': 397},\n",
       " 475: {'word': 'great', 'token': 398},\n",
       " 476: {'word': 'should', 'token': 399},\n",
       " 477: {'word': 'head', 'token': 400},\n",
       " 478: {'word': 'performed', 'token': 401},\n",
       " 479: {'word': 'served', 'token': 402},\n",
       " 480: {'word': 'eight', 'token': 403},\n",
       " 33243: {'word': 'guildhall', 'token': 9327},\n",
       " 482: {'word': 'players', 'token': 404},\n",
       " 484: {'word': 'george', 'token': 23},\n",
       " 485: {'word': 'street', 'token': 1686},\n",
       " 486: {'word': 'with', 'token': 18},\n",
       " 487: {'word': 'low', 'token': 405},\n",
       " 488: {'word': 'park', 'token': 923},\n",
       " 489: {'word': 'style', 'token': 406},\n",
       " 490: {'word': 'son', 'token': 407},\n",
       " 491: {'word': 'design', 'token': 408},\n",
       " 492: {'word': 'seven', 'token': 409},\n",
       " 493: {'word': 'killed', 'token': 410},\n",
       " 494: {'word': 'various', 'token': 411},\n",
       " 495: {'word': 'throughout', 'token': 412},\n",
       " 496: {'word': 'taken', 'token': 413},\n",
       " 497: {'word': 'able', 'token': 414},\n",
       " 33265: {'word': 'signals', 'token': 4362},\n",
       " 499: {'word': 'little', 'token': 416},\n",
       " 98800: {'word': 'dlamini', 'token': 23},\n",
       " 501: {'word': 'full', 'token': 417},\n",
       " 502: {'word': 'level', 'token': 418},\n",
       " 503: {'word': 'writing', 'token': 419},\n",
       " 504: {'word': 'established', 'token': 420},\n",
       " 505: {'word': 'appeared', 'token': 421},\n",
       " 33268: {'word': 'farnborough', 'token': 23},\n",
       " 507: {'word': 'success', 'token': 422},\n",
       " 508: {'word': 'points', 'token': 423},\n",
       " 33278: {'word': 'depriving', 'token': 424},\n",
       " 511: {'word': 'miles', 'token': 425},\n",
       " 512: {'word': 'road', 'token': 438},\n",
       " 513: {'word': 'route', 'token': 427},\n",
       " 514: {'word': 'member', 'token': 428},\n",
       " 33281: {'word': 'trolley', 'token': 429},\n",
       " 516: {'word': 'women', 'token': 430},\n",
       " 66052: {'word': 'reciprocates', 'token': 431},\n",
       " 517: {'word': 'caused', 'token': 432},\n",
       " 519: {'word': 'battle', 'token': 433},\n",
       " 518: {'word': 'started', 'token': 434},\n",
       " 520: {'word': 'addition', 'token': 435},\n",
       " 522: {'word': 'air', 'token': 436},\n",
       " 523: {'word': 'eventually', 'token': 437},\n",
       " 521: {'word': 'features', 'token': 439},\n",
       " 524: {'word': 'road', 'token': 438},\n",
       " 526: {'word': 'range', 'token': 440},\n",
       " 98824: {'word': 'servius', 'token': 23},\n",
       " 528: {'word': 'age', 'token': 442},\n",
       " 529: {'word': 'added', 'token': 443},\n",
       " 530: {'word': 'together', 'token': 444},\n",
       " 531: {'word': 'race', 'token': 445},\n",
       " 532: {'word': 'national', 'token': 446},\n",
       " 533: {'word': 'sold', 'token': 447},\n",
       " 534: {'word': 'once', 'token': 448},\n",
       " 535: {'word': 'formed', 'token': 449},\n",
       " 536: {'word': 'located', 'token': 450},\n",
       " 537: {'word': 'body', 'token': 451},\n",
       " 538: {'word': 'present', 'token': 452},\n",
       " 539: {'word': 'david', 'token': 23},\n",
       " 540: {'word': 'instead', 'token': 453},\n",
       " 33304: {'word': 'tiridates', 'token': 23},\n",
       " 542: {'word': 'white', 'token': 454},\n",
       " 543: {'word': 'ten', 'token': 455},\n",
       " 544: {'word': 'general', 'token': 456},\n",
       " 33308: {'word': 'martyr', 'token': 8501},\n",
       " 546: {'word': 'common', 'token': 458},\n",
       " 547: {'word': 'completed', 'token': 459},\n",
       " 548: {'word': 'action', 'token': 460},\n",
       " 549: {'word': 'playing', 'token': 461},\n",
       " 550: {'word': 'house', 'token': 386},\n",
       " 33320: {'word': 'evaluation', 'token': 5928},\n",
       " 553: {'word': 'royal', 'token': 1199},\n",
       " 554: {'word': 'population', 'token': 462},\n",
       " 555: {'word': 'important', 'token': 463},\n",
       " 556: {'word': 'rather', 'token': 464},\n",
       " 557: {'word': 'east', 'token': 323},\n",
       " 558: {'word': 'opened', 'token': 465},\n",
       " 559: {'word': 'campaign', 'token': 466},\n",
       " 164394: {'word': 'comentiolus', 'token': 23},\n",
       " 561: {'word': 'others', 'token': 468},\n",
       " 562: {'word': 'stage', 'token': 469},\n",
       " 563: {'word': 'station', 'token': 470},\n",
       " 564: {'word': 'light', 'token': 471},\n",
       " 565: {'word': 'saw', 'token': 472},\n",
       " 566: {'word': 'michael', 'token': 23},\n",
       " 33329: {'word': 'riots', 'token': 5381},\n",
       " 568: {'word': 'site', 'token': 474},\n",
       " 33337: {'word': 'palisades', 'token': 8852},\n",
       " 570: {'word': 'live', 'token': 475},\n",
       " 571: {'word': 'works', 'token': 476},\n",
       " 572: {'word': 'law', 'token': 477},\n",
       " 573: {'word': 'worked', 'token': 478},\n",
       " 574: {'word': 'france', 'token': 23},\n",
       " 66110: {'word': 'valerius', 'token': 23},\n",
       " 575: {'word': 'guns', 'token': 479},\n",
       " 577: {'word': 'party', 'token': 481},\n",
       " 576: {'word': 'get', 'token': 480},\n",
       " 579: {'word': 'night', 'token': 483},\n",
       " 580: {'word': 'popular', 'token': 484},\n",
       " 578: {'word': 'tour', 'token': 482},\n",
       " 582: {'word': 'close', 'token': 486},\n",
       " 583: {'word': 'construction', 'token': 487},\n",
       " 584: {'word': 'weeks', 'token': 488},\n",
       " 585: {'word': 'heavy', 'token': 489},\n",
       " 586: {'word': 'strong', 'token': 490},\n",
       " 587: {'word': 'originally', 'token': 491},\n",
       " 588: {'word': 'upon', 'token': 492},\n",
       " 589: {'word': 'leading', 'token': 493},\n",
       " 590: {'word': 'almost', 'token': 494},\n",
       " 591: {'word': 'damage', 'token': 495},\n",
       " 592: {'word': 'black', 'token': 496},\n",
       " 593: {'word': 'scored', 'token': 497},\n",
       " 594: {'word': 'born', 'token': 498},\n",
       " 595: {'word': 'henry', 'token': 7910},\n",
       " 596: {'word': 'every', 'token': 500},\n",
       " 597: {'word': 'provided', 'token': 501},\n",
       " 598: {'word': 'to', 'token': 5},\n",
       " 599: {'word': 'fourth', 'token': 502},\n",
       " 600: {'word': 'case', 'token': 503},\n",
       " 601: {'word': 'event', 'token': 504},\n",
       " 602: {'word': 'you', 'token': 257},\n",
       " 603: {'word': 'young', 'token': 505},\n",
       " 33363: {'word': 'intervenes', 'token': 499},\n",
       " 605: {'word': 'scene', 'token': 506},\n",
       " 606: {'word': 'front', 'token': 507},\n",
       " 607: {'word': 're', 'token': 508},\n",
       " 608: {'word': 'brought', 'token': 509},\n",
       " 609: {'word': 'non', 'token': 510},\n",
       " 610: {'word': 'featured', 'token': 511},\n",
       " 611: {'word': 'see', 'token': 512},\n",
       " 33380: {'word': 'rediscovery', 'token': 513},\n",
       " 613: {'word': 'some', 'token': 96},\n",
       " 614: {'word': 'allowed', 'token': 515},\n",
       " 612: {'word': 'least', 'token': 514},\n",
       " 616: {'word': 'average', 'token': 517},\n",
       " 615: {'word': 'working', 'token': 516},\n",
       " 618: {'word': 'towards', 'token': 519},\n",
       " 619: {'word': 'wanted', 'token': 520},\n",
       " 131688: {'word': 'usurps', 'token': 518},\n",
       " 621: {'word': 'help', 'token': 522},\n",
       " 622: {'word': 'washington', 'token': 23},\n",
       " 623: {'word': 'robert', 'token': 23},\n",
       " 624: {'word': 'placed', 'token': 524},\n",
       " 625: {'word': 'either', 'token': 525},\n",
       " 626: {'word': 'ground', 'token': 526},\n",
       " 627: {'word': 'field', 'token': 527},\n",
       " 629: {'word': 'does', 'token': 529},\n",
       " 630: {'word': 'ever', 'token': 530},\n",
       " 631: {'word': 'air', 'token': 436},\n",
       " 632: {'word': 'region', 'token': 532},\n",
       " 633: {'word': 'office', 'token': 533},\n",
       " 634: {'word': 'example', 'token': 534},\n",
       " 635: {'word': 'an', 'token': 30},\n",
       " 636: {'word': 'put', 'token': 535},\n",
       " 637: {'word': 'runs', 'token': 536},\n",
       " 230012: {'word': 'bmcc', 'token': 23},\n",
       " 639: {'word': 'wife', 'token': 537},\n",
       " 640: {'word': 'troops', 'token': 538},\n",
       " 641: {'word': 'europe', 'token': 23},\n",
       " 642: {'word': 'battle', 'token': 433},\n",
       " 643: {'word': 'army', 'token': 540},\n",
       " 644: {'word': 'modern', 'token': 541},\n",
       " 645: {'word': 'despite', 'token': 653},\n",
       " 66178: {'word': 'hundredths', 'token': 539},\n",
       " 98951: {'word': 'salic', 'token': 23},\n",
       " 648: {'word': 'school', 'token': 275},\n",
       " 649: {'word': 'hit', 'token': 542},\n",
       " 650: {'word': 'generally', 'token': 543},\n",
       " 651: {'word': 'music', 'token': 143},\n",
       " 652: {'word': 'joined', 'token': 545},\n",
       " 653: {'word': 'other', 'token': 62},\n",
       " 66190: {'word': 'ci', 'token': 5914},\n",
       " 655: {'word': 'events', 'token': 546},\n",
       " 656: {'word': 'believed', 'token': 547},\n",
       " 657: {'word': 'following', 'token': 150},\n",
       " 658: {'word': 'go', 'token': 548},\n",
       " 659: {'word': 'victory', 'token': 549},\n",
       " 660: {'word': 'replaced', 'token': 550},\n",
       " 661: {'word': 'japan', 'token': 23},\n",
       " 66194: {'word': 'cons', 'token': 551},\n",
       " 663: {'word': 'designed', 'token': 552},\n",
       " 664: {'word': 'b', 'token': 3087},\n",
       " 665: {'word': 'president', 'token': 748},\n",
       " 666: {'word': 'open', 'token': 553},\n",
       " 667: {'word': 'first', 'token': 39},\n",
       " 668: {'word': 'hours', 'token': 554},\n",
       " 669: {'word': 'mother', 'token': 555},\n",
       " 670: {'word': 'project', 'token': 556},\n",
       " 671: {'word': 'european', 'token': 4902},\n",
       " 672: {'word': 'two', 'token': 50},\n",
       " 98977: {'word': 'nonstandard', 'token': 557},\n",
       " 674: {'word': 'finished', 'token': 558},\n",
       " 675: {'word': 'start', 'token': 559},\n",
       " 676: {'word': 'island', 'token': 560},\n",
       " 677: {'word': 'soon', 'token': 561},\n",
       " 678: {'word': 'saying', 'token': 562},\n",
       " 679: {'word': 'successful', 'token': 563},\n",
       " 680: {'word': 'opening', 'token': 564},\n",
       " 681: {'word': 'cup', 'token': 3899},\n",
       " 682: {'word': 'rest', 'token': 566},\n",
       " 164517: {'word': 'froben', 'token': 23},\n",
       " 684: {'word': 'largest', 'token': 567},\n",
       " 685: {'word': 'possible', 'token': 568},\n",
       " 686: {'word': 'minutes', 'token': 569},\n",
       " 687: {'word': 'route', 'token': 427},\n",
       " 689: {'word': 'free', 'token': 571},\n",
       " 690: {'word': 'highest', 'token': 572},\n",
       " 691: {'word': 'earlier', 'token': 573},\n",
       " 692: {'word': 'mid', 'token': 574},\n",
       " 693: {'word': 'initially', 'token': 575},\n",
       " 66228: {'word': 'oblige', 'token': 576},\n",
       " 695: {'word': 'available', 'token': 577},\n",
       " 696: {'word': 'particularly', 'token': 578},\n",
       " 99001: {'word': 'khattab', 'token': 23},\n",
       " 698: {'word': 'rock', 'token': 580},\n",
       " 699: {'word': 'forced', 'token': 581},\n",
       " 697: {'word': 'training', 'token': 579},\n",
       " 701: {'word': 'significant', 'token': 583},\n",
       " 197309: {'word': 'faustina', 'token': 23},\n",
       " 703: {'word': 'command', 'token': 585},\n",
       " 702: {'word': 'process', 'token': 584},\n",
       " 704: {'word': 'navy', 'token': 3303},\n",
       " 706: {'word': 'met', 'token': 588},\n",
       " 707: {'word': 'special', 'token': 589},\n",
       " 700: {'word': 'shot', 'token': 582},\n",
       " 709: {'word': 'charles', 'token': 23},\n",
       " 710: {'word': 'far', 'token': 592},\n",
       " 711: {'word': 'ended', 'token': 593},\n",
       " 712: {'word': 'turned', 'token': 594},\n",
       " 713: {'word': 'month', 'token': 595},\n",
       " 66245: {'word': 'carus', 'token': 23},\n",
       " 715: {'word': 'kingdom', 'token': 2407},\n",
       " 716: {'word': 'studio', 'token': 597},\n",
       " 717: {'word': 'from', 'token': 25},\n",
       " 718: {'word': 'director', 'token': 598},\n",
       " 719: {'word': 'thomas', 'token': 23},\n",
       " 33488: {'word': 'tioga', 'token': 23},\n",
       " 720: {'word': 'southern', 'token': 599},\n",
       " 722: {'word': 'passed', 'token': 600},\n",
       " 723: {'word': 'increased', 'token': 601},\n",
       " 33490: {'word': 'catapults', 'token': 602},\n",
       " 726: {'word': 'canada', 'token': 23},\n",
       " 727: {'word': 'international', 'token': 686},\n",
       " 728: {'word': 'change', 'token': 603},\n",
       " 729: {'word': 'appearance', 'token': 604},\n",
       " 730: {'word': 'units', 'token': 605},\n",
       " 731: {'word': 'official', 'token': 606},\n",
       " 732: {'word': 'san', 'token': 8749},\n",
       " 734: {'word': 'list', 'token': 607},\n",
       " 735: {'word': 'goal', 'token': 608},\n",
       " 736: {'word': 'ordered', 'token': 609},\n",
       " 737: {'word': 'relationship', 'token': 610},\n",
       " 738: {'word': 'taking', 'token': 611},\n",
       " 230112: {'word': 'perverse', 'token': 4917},\n",
       " 740: {'word': 'signed', 'token': 612},\n",
       " 741: {'word': 'love', 'token': 613},\n",
       " 742: {'word': 'california', 'token': 23},\n",
       " 743: {'word': 'court', 'token': 614},\n",
       " 745: {'word': 'northern', 'token': 616},\n",
       " 746: {'word': 'move', 'token': 617},\n",
       " 747: {'word': 'paul', 'token': 2568},\n",
       " 748: {'word': 'must', 'token': 619},\n",
       " 749: {'word': 'enough', 'token': 620},\n",
       " 750: {'word': 'positive', 'token': 621},\n",
       " 751: {'word': 'better', 'token': 622},\n",
       " 752: {'word': 'winds', 'token': 623},\n",
       " 753: {'word': 'spent', 'token': 624},\n",
       " 754: {'word': 'going', 'token': 625},\n",
       " 755: {'word': 'outside', 'token': 626},\n",
       " 756: {'word': 'above', 'token': 627},\n",
       " 757: {'word': 'films', 'token': 628},\n",
       " 758: {'word': 'church', 'token': 629},\n",
       " 759: {'word': 'told', 'token': 630},\n",
       " 760: {'word': 'attempt', 'token': 631},\n",
       " 761: {'word': 'central', 'token': 632},\n",
       " 762: {'word': 'human', 'token': 633},\n",
       " 763: {'word': 'previously', 'token': 634},\n",
       " 764: {'word': 'recording', 'token': 635},\n",
       " 765: {'word': 'sound', 'token': 636},\n",
       " 766: {'word': 'union', 'token': 2587},\n",
       " 767: {'word': 'find', 'token': 638},\n",
       " 33535: {'word': 'fridays', 'token': 23},\n",
       " 769: {'word': 'nine', 'token': 640},\n",
       " 770: {'word': 'great', 'token': 398},\n",
       " 771: {'word': 'failed', 'token': 641},\n",
       " 772: {'word': 'required', 'token': 642},\n",
       " 33541: {'word': 'facsimile', 'token': 643},\n",
       " 774: {'word': 'elements', 'token': 644},\n",
       " 775: {'word': 'company', 'token': 311},\n",
       " 776: {'word': 'come', 'token': 646},\n",
       " 777: {'word': 'germany', 'token': 23},\n",
       " 778: {'word': 'reviews', 'token': 647},\n",
       " 779: {'word': 'india', 'token': 6395},\n",
       " 780: {'word': 'parts', 'token': 648},\n",
       " 781: {'word': 'itself', 'token': 649},\n",
       " 782: {'word': 'directed', 'token': 650},\n",
       " 783: {'word': 'base', 'token': 651},\n",
       " 784: {'word': 'interest', 'token': 652},\n",
       " 164624: {'word': 'quadratus', 'token': 23},\n",
       " 786: {'word': 'court', 'token': 614},\n",
       " 787: {'word': 'entire', 'token': 654},\n",
       " 785: {'word': 'despite', 'token': 653},\n",
       " 788: {'word': '?', 'token': 655},\n",
       " 790: {'word': 'according', 'token': 656},\n",
       " 791: {'word': 'island', 'token': 560},\n",
       " 792: {'word': 'times', 'token': 346},\n",
       " 793: {'word': 'beginning', 'token': 657},\n",
       " 33556: {'word': 'coldwater', 'token': 9350},\n",
       " 795: {'word': 'groups', 'token': 659},\n",
       " 796: {'word': 'term', 'token': 660},\n",
       " 797: {'word': 'hall', 'token': 1998},\n",
       " 798: {'word': 'college', 'token': 1086},\n",
       " 799: {'word': 'whose', 'token': 661},\n",
       " 800: {'word': 'states', 'token': 662},\n",
       " 801: {'word': 'claimed', 'token': 663},\n",
       " 802: {'word': 'co', 'token': 664},\n",
       " 33569: {'word': 'luoyang', 'token': 23},\n",
       " 804: {'word': 'post', 'token': 666},\n",
       " 805: {'word': 'white', 'token': 454},\n",
       " 33573: {'word': 'xu', 'token': 23},\n",
       " 807: {'word': 'lower', 'token': 667},\n",
       " 66344: {'word': 'kufa', 'token': 23},\n",
       " 809: {'word': 'indian', 'token': 6079},\n",
       " 810: {'word': 'art', 'token': 669},\n",
       " 811: {'word': 'future', 'token': 670},\n",
       " 812: {'word': 'lines', 'token': 671},\n",
       " 131885: {'word': 'heavenfield', 'token': 23},\n",
       " 814: {'word': 'give', 'token': 673},\n",
       " 813: {'word': 'league', 'token': 672},\n",
       " 815: {'word': 'review', 'token': 674},\n",
       " 816: {'word': 'whom', 'token': 675},\n",
       " 818: {'word': 'section', 'token': 677},\n",
       " 817: {'word': 'we', 'token': 305},\n",
       " 820: {'word': 'cover', 'token': 679},\n",
       " 821: {'word': 'introduced', 'token': 680},\n",
       " 822: {'word': 'evidence', 'token': 681},\n",
       " 66358: {'word': 'wedge', 'token': 7534},\n",
       " 824: {'word': 'quickly', 'token': 683},\n",
       " 825: {'word': 'brother', 'token': 684},\n",
       " 826: {'word': 'peter', 'token': 7369},\n",
       " 827: {'word': 'round', 'token': 685},\n",
       " 828: {'word': 'international', 'token': 686},\n",
       " 829: {'word': 'already', 'token': 687},\n",
       " 830: {'word': 'black', 'token': 496},\n",
       " 831: {'word': 'western', 'token': 724},\n",
       " 832: {'word': 'football', 'token': 688},\n",
       " 833: {'word': 'church', 'token': 629},\n",
       " 834: {'word': 'that', 'token': 15},\n",
       " 835: {'word': 'force', 'token': 375},\n",
       " 836: {'word': 'real', 'token': 689},\n",
       " 66373: {'word': \"'uk\", 'token': 690},\n",
       " 838: {'word': 'loss', 'token': 691},\n",
       " 837: {'word': 'election', 'token': 692},\n",
       " 33606: {'word': 'greenway', 'token': 6959},\n",
       " 840: {'word': 'coast', 'token': 693},\n",
       " 841: {'word': 'usually', 'token': 694},\n",
       " 843: {'word': 'richard', 'token': 23},\n",
       " 844: {'word': 'arrived', 'token': 697},\n",
       " 66377: {'word': 'petrarch', 'token': 23},\n",
       " 845: {'word': 'sea', 'token': 698},\n",
       " 847: {'word': 'britain', 'token': 23},\n",
       " 131917: {'word': 'kui', 'token': 23},\n",
       " 849: {'word': 'female', 'token': 700},\n",
       " 850: {'word': 'sometimes', 'token': 701},\n",
       " 851: {'word': 'hand', 'token': 702},\n",
       " 852: {'word': 'study', 'token': 703},\n",
       " 853: {'word': 'social', 'token': 704},\n",
       " 854: {'word': 'response', 'token': 705},\n",
       " 855: {'word': 'star', 'token': 706},\n",
       " 856: {'word': 'decision', 'token': 707},\n",
       " 857: {'word': 'especially', 'token': 708},\n",
       " 858: {'word': 'magazine', 'token': 709},\n",
       " 859: {'word': 'issue', 'token': 710},\n",
       " 860: {'word': 'debut', 'token': 711},\n",
       " 861: {'word': 'program', 'token': 712},\n",
       " 33630: {'word': 'pseudonyms', 'token': 713},\n",
       " 99167: {'word': 'consulship', 'token': 8372},\n",
       " 864: {'word': 'money', 'token': 715},\n",
       " 33633: {'word': 'palisade', 'token': 716},\n",
       " 866: {'word': 'surface', 'token': 717},\n",
       " 867: {'word': 'c', 'token': 2093},\n",
       " 868: {'word': 'turn', 'token': 719},\n",
       " 869: {'word': 'most', 'token': 80},\n",
       " 870: {'word': 'carried', 'token': 720},\n",
       " 871: {'word': 'shows', 'token': 721},\n",
       " 872: {'word': 'community', 'token': 722},\n",
       " 873: {'word': 'estimated', 'token': 723},\n",
       " 874: {'word': 'western', 'token': 724},\n",
       " 875: {'word': 'later', 'token': 78},\n",
       " 876: {'word': 'remaining', 'token': 726},\n",
       " 33642: {'word': 'maneuvered', 'token': 725},\n",
       " 878: {'word': 'length', 'token': 727},\n",
       " 879: {'word': 'defeated', 'token': 728},\n",
       " 880: {'word': 'king', 'token': 729},\n",
       " 881: {'word': 'virginia', 'token': 23},\n",
       " 66417: {'word': 'invents', 'token': 730},\n",
       " 883: {'word': 'musical', 'token': 732},\n",
       " 884: {'word': 'larger', 'token': 733},\n",
       " 99186: {'word': 'rezoning', 'token': 731},\n",
       " 885: {'word': 'star', 'token': 706},\n",
       " 887: {'word': 'bridge', 'token': 735},\n",
       " 888: {'word': 'plan', 'token': 736},\n",
       " 882: {'word': 'early', 'token': 130},\n",
       " 890: {'word': 'complete', 'token': 738},\n",
       " 886: {'word': 'becoming', 'token': 734},\n",
       " 892: {'word': 'police', 'token': 740},\n",
       " 893: {'word': 'suggested', 'token': 741},\n",
       " 894: {'word': 'pressure', 'token': 742},\n",
       " 891: {'word': 'business', 'token': 739},\n",
       " 889: {'word': 'center', 'token': 737},\n",
       " 897: {'word': 'percent', 'token': 745},\n",
       " 896: {'word': 'teams', 'token': 744},\n",
       " 899: {'word': 'might', 'token': 747},\n",
       " 900: {'word': 'president', 'token': 748},\n",
       " 901: {'word': 'students', 'token': 749},\n",
       " 902: {'word': 'high', 'token': 169},\n",
       " 903: {'word': 'latter', 'token': 750},\n",
       " 904: {'word': 'eastern', 'token': 751},\n",
       " 905: {'word': 'media', 'token': 752},\n",
       " 906: {'word': 'effects', 'token': 753},\n",
       " 907: {'word': 'appointed', 'token': 754},\n",
       " 131973: {'word': 'turpan', 'token': 23},\n",
       " 909: {'word': 'changes', 'token': 756},\n",
       " 910: {'word': 'limited', 'token': 757},\n",
       " 33676: {'word': 'commences', 'token': 755},\n",
       " 912: {'word': 'leaving', 'token': 758},\n",
       " 913: {'word': 'los', 'token': 8031},\n",
       " 914: {'word': 'destroyed', 'token': 760},\n",
       " 33680: {'word': 'astrological', 'token': 759},\n",
       " 916: {'word': 'summer', 'token': 761},\n",
       " 917: {'word': 'winning', 'token': 762},\n",
       " 918: {'word': 'material', 'token': 763},\n",
       " 919: {'word': 'cut', 'token': 764},\n",
       " 920: {'word': 'spanish', 'token': 528},\n",
       " 921: {'word': 'rights', 'token': 766},\n",
       " 922: {'word': 'provide', 'token': 767},\n",
       " 923: {'word': 'writer', 'token': 768},\n",
       " 924: {'word': 'date', 'token': 769},\n",
       " 66461: {'word': 'incapacitate', 'token': 770},\n",
       " 925: {'word': 'proposed', 'token': 771},\n",
       " 927: {'word': 'man', 'token': 364},\n",
       " 928: {'word': 'fleet', 'token': 773},\n",
       " 929: {'word': 'party', 'token': 481},\n",
       " 930: {'word': 'size', 'token': 775},\n",
       " 931: {'word': 'structure', 'token': 776},\n",
       " 926: {'word': 'influence', 'token': 772},\n",
       " 933: {'word': 'soviet', 'token': 8500},\n",
       " 934: {'word': 'overall', 'token': 779},\n",
       " 935: {'word': 'fact', 'token': 780},\n",
       " 936: {'word': 'association', 'token': 2239},\n",
       " 937: {'word': 'lack', 'token': 781},\n",
       " 33705: {'word': 'towns', 'token': 1993},\n",
       " 932: {'word': 'her', 'token': 44},\n",
       " 940: {'word': 'past', 'token': 784},\n",
       " 941: {'word': 'running', 'token': 785},\n",
       " 942: {'word': 'type', 'token': 786},\n",
       " 943: {'word': 'daughter', 'token': 787},\n",
       " 939: {'word': 'intended', 'token': 783},\n",
       " 945: {'word': 'food', 'token': 789},\n",
       " 946: {'word': 'nearly', 'token': 790},\n",
       " 947: {'word': 'supported', 'token': 791},\n",
       " 944: {'word': 'car', 'token': 788},\n",
       " 949: {'word': 'red', 'token': 793},\n",
       " 33714: {'word': 'leroy', 'token': 23},\n",
       " 948: {'word': 'room', 'token': 792},\n",
       " 952: {'word': 'helped', 'token': 794},\n",
       " 953: {'word': 'married', 'token': 795},\n",
       " 954: {'word': 'wide', 'token': 796},\n",
       " 955: {'word': 'movement', 'token': 797},\n",
       " 956: {'word': 'awarded', 'token': 798},\n",
       " 957: {'word': 'chinese', 'token': 23},\n",
       " 958: {'word': 'red', 'token': 793},\n",
       " 959: {'word': 'many', 'token': 121},\n",
       " 951: {'word': 'chicago', 'token': 23},\n",
       " 961: {'word': 'cost', 'token': 799},\n",
       " 962: {'word': 'anti', 'token': 800},\n",
       " 963: {'word': 'o', 'token': 4986},\n",
       " 964: {'word': 'river', 'token': 801},\n",
       " 965: {'word': 'create', 'token': 802},\n",
       " 966: {'word': 'jackson', 'token': 23},\n",
       " 967: {'word': 'contract', 'token': 803},\n",
       " 968: {'word': 'edward', 'token': 23},\n",
       " 970: {'word': 'act', 'token': 904},\n",
       " 971: {'word': 'view', 'token': 804},\n",
       " 132044: {'word': 'mauropotamos', 'token': 23},\n",
       " 973: {'word': 'longer', 'token': 806},\n",
       " 974: {'word': 'language', 'token': 807},\n",
       " 975: {'word': 'higher', 'token': 808},\n",
       " 976: {'word': 'hill', 'token': 2483},\n",
       " 977: {'word': 'planned', 'token': 810},\n",
       " 197586: {'word': 'alfonsine', 'token': 23},\n",
       " 979: {'word': 'compared', 'token': 812},\n",
       " 980: {'word': 'captured', 'token': 813},\n",
       " 978: {'word': 'self', 'token': 811},\n",
       " 982: {'word': 'council', 'token': 1710},\n",
       " 983: {'word': 'course', 'token': 816},\n",
       " 984: {'word': 'changed', 'token': 817},\n",
       " 985: {'word': 'm', 'token': 223},\n",
       " 33752: {'word': 'distant', 'token': 3526},\n",
       " 987: {'word': 'approximately', 'token': 820},\n",
       " 99292: {'word': 'boudica', 'token': 23},\n",
       " 989: {'word': 'personal', 'token': 821},\n",
       " 990: {'word': 'living', 'token': 822},\n",
       " 991: {'word': 'themselves', 'token': 823},\n",
       " 986: {'word': 'experience', 'token': 819},\n",
       " 992: {'word': 'done', 'token': 824},\n",
       " 994: {'word': 'history', 'token': 292},\n",
       " 995: {'word': 'related', 'token': 826},\n",
       " 996: {'word': 'x', 'token': 3855},\n",
       " 997: {'word': 'research', 'token': 827},\n",
       " 263141: {'word': 'psychotomimetic', 'token': 828},\n",
       " 999: {'word': 'mostly', 'token': 829},\n",
       " 1000: {'word': 'fans', 'token': 830},\n",
       " 1001: {'word': 'commercial', 'token': 831},\n",
       " 1002: {'word': 'radio', 'token': 832},\n",
       " 1003: {'word': 'pacific', 'token': 8907},\n",
       " 1004: {'word': 'grand', 'token': 3089},\n",
       " 1005: {'word': 'thus', 'token': 835},\n",
       " 132070: {'word': 'artaxata', 'token': 23},\n",
       " 1007: {'word': 'fifth', 'token': 836},\n",
       " 1008: {'word': 'operations', 'token': 837},\n",
       " 66543: {'word': 'ke', 'token': 838},\n",
       " 1010: {'word': 'stars', 'token': 839},\n",
       " 1009: {'word': 'remains', 'token': 840},\n",
       " 1011: {'word': 'whether', 'token': 841},\n",
       " 1013: {'word': 'current', 'token': 842},\n",
       " 1014: {'word': 'probably', 'token': 843},\n",
       " 1015: {'word': 'soldiers', 'token': 844},\n",
       " 1016: {'word': 'space', 'token': 845},\n",
       " 1017: {'word': 'copies', 'token': 846},\n",
       " 1018: {'word': 'buildings', 'token': 847},\n",
       " ...}"
      ]
     },
     "execution_count": 24,
     "metadata": {},
     "output_type": "execute_result"
    }
   ],
   "source": [
    "token_maps"
   ]
  },
  {
   "cell_type": "code",
   "execution_count": 25,
   "id": "c1c94be2",
   "metadata": {},
   "outputs": [
    {
     "name": "stdout",
     "output_type": "stream",
     "text": [
      "Token mapper saved to token_maps.pkl\n"
     ]
    }
   ],
   "source": [
    "import pickle\n",
    "with open(config['dataset_params']['token_maps'], 'wb') as handle:\n",
    "    pickle.dump(token_maps, handle)\n",
    "print('Token mapper saved to %s' % config['dataset_params']['token_maps'])"
   ]
  },
  {
   "cell_type": "markdown",
   "id": "1c9e968e",
   "metadata": {},
   "source": [
    "### Test the dataset with dataloader\n"
   ]
  },
  {
   "cell_type": "code",
   "execution_count": 26,
   "id": "f9025e2f",
   "metadata": {},
   "outputs": [
    {
     "name": "stdout",
     "output_type": "stream",
     "text": [
      "177\n"
     ]
    }
   ],
   "source": [
    "from dataloader import build_dataloader\n",
    "\n",
    "train_loader = build_dataloader(dataset, batch_size=32, num_workers=0, dataset_config=config['dataset_params'])"
   ]
  },
  {
   "cell_type": "code",
   "execution_count": 61,
   "id": "d74f0edf",
   "metadata": {},
   "outputs": [
    {
     "name": "stdout",
     "output_type": "stream",
     "text": [
      "177\n"
     ]
    }
   ],
   "source": [
    "from dataloader import build_dataloader\n",
    "\n",
    "train_loader = build_dataloader(dataset, batch_size=32, num_workers=0)"
   ]
  },
  {
   "cell_type": "code",
   "execution_count": 62,
   "id": "70874215",
   "metadata": {},
   "outputs": [],
   "source": [
    "_, (words, labels, phonemes, input_lengths, masked_indices) = next(enumerate(train_loader))"
   ]
  },
  {
   "cell_type": "code",
   "execution_count": 31,
   "id": "18e237f0",
   "metadata": {},
   "outputs": [
    {
     "data": {
      "text/plain": [
       "torch.Size([32, 512])"
      ]
     },
     "execution_count": 31,
     "metadata": {},
     "output_type": "execute_result"
    }
   ],
   "source": [
    "words.shape"
   ]
  },
  {
   "cell_type": "code",
   "execution_count": null,
   "id": "1525b71e",
   "metadata": {},
   "outputs": [
    {
     "data": {
      "text/plain": [
       "torch.Size([32, 512])"
      ]
     },
     "execution_count": 32,
     "metadata": {},
     "output_type": "execute_result"
    }
   ],
   "source": [
    "labels.shape # labels are the original phoneme tokens"
   ]
  },
  {
   "cell_type": "code",
   "execution_count": null,
   "id": "3b0b3921",
   "metadata": {},
   "outputs": [
    {
     "data": {
      "text/plain": [
       "torch.Size([32, 512])"
      ]
     },
     "execution_count": 35,
     "metadata": {},
     "output_type": "execute_result"
    }
   ],
   "source": [
    "phonemes.shape # phonemes are the phoneme tokens after masked"
   ]
  },
  {
   "cell_type": "code",
   "execution_count": 39,
   "id": "9f272689",
   "metadata": {},
   "outputs": [
    {
     "data": {
      "text/plain": [
       "32"
      ]
     },
     "execution_count": 39,
     "metadata": {},
     "output_type": "execute_result"
    }
   ],
   "source": [
    "len(input_lengths)"
   ]
  },
  {
   "cell_type": "code",
   "execution_count": 41,
   "id": "26952348",
   "metadata": {},
   "outputs": [
    {
     "data": {
      "text/plain": [
       "32"
      ]
     },
     "execution_count": 41,
     "metadata": {},
     "output_type": "execute_result"
    }
   ],
   "source": [
    "len(masked_indices)"
   ]
  }
 ],
 "metadata": {
  "kernelspec": {
   "display_name": "Python 3",
   "language": "python",
   "name": "python3"
  },
  "language_info": {
   "codemirror_mode": {
    "name": "ipython",
    "version": 3
   },
   "file_extension": ".py",
   "mimetype": "text/x-python",
   "name": "python",
   "nbconvert_exporter": "python",
   "pygments_lexer": "ipython3",
   "version": "3.8.20"
  }
 },
 "nbformat": 4,
 "nbformat_minor": 5
}
